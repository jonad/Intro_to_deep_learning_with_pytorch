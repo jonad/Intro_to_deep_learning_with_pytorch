{
 "cells": [
  {
   "cell_type": "markdown",
   "metadata": {},
   "source": [
    "# Webinar#9: Deep Learning with Pytorch - Part 1"
   ]
  },
  {
   "cell_type": "markdown",
   "metadata": {},
   "source": [
    "## Overview"
   ]
  },
  {
   "cell_type": "markdown",
   "metadata": {},
   "source": [
    "In this notebook, you'll get introduced to [PyTorch](http://pytorch.org/), a framework for building and training neural networks. After a brief introduction to pytorch, we will build a classifier using the perceptron model. We will  then create a deep neural network model to predict house prices using a modified [Kaggle dataset](https://www.kaggle.com/c/house-prices-advanced-regression-techniques). If we have additional time we will train a deep learning model using the [Tensorflow playground](https://playground.tensorflow.org/#activation=tanh&batchSize=10&dataset=spiral&regDataset=reg-plane&learningRate=0.03&regularizationRate=0&noise=0&networkShape=4,2&seed=0.69269&showTestData=false&discretize=false&percTrainData=50&x=true&y=true&xTimesY=false&xSquared=false&ySquared=false&cosX=false&sinX=false&cosY=false&sinY=false&collectStats=false&problem=classification&initZero=false&hideText=false)."
   ]
  },
  {
   "cell_type": "markdown",
   "metadata": {},
   "source": [
    "## Tensors"
   ]
  },
  {
   "cell_type": "markdown",
   "metadata": {},
   "source": [
    "Tensors are the generalization of matrices. A scalar is a 0-dimensional tensor, a vector is a 1-dimensional tensor, a matrix is a 2-dimensional tensor,  any array with three indices is a 3-dimensional tensor, and an array with n (n > 2) indices is an n-dimensional tensor."
   ]
  },
  {
   "cell_type": "markdown",
   "metadata": {},
   "source": [
    "<img src=\"images/tensor.png\" width=600px>"
   ]
  },
  {
   "cell_type": "markdown",
   "metadata": {},
   "source": [
    "<img src=\"images/tensor_examples.svg\" width=600px>"
   ]
  },
  {
   "cell_type": "markdown",
   "metadata": {},
   "source": [
    "Tensors are the fundamental data structure for neural networks. Any neural network computations are just linear algebra operations on tensors. "
   ]
  },
  {
   "cell_type": "code",
   "execution_count": 1,
   "metadata": {
    "collapsed": true
   },
   "outputs": [],
   "source": [
    "# useful import\n",
    "import torch\n",
    "import numpy as np"
   ]
  },
  {
   "cell_type": "code",
   "execution_count": 2,
   "metadata": {
    "collapsed": false
   },
   "outputs": [],
   "source": [
    "# a scalar 0-dimensional tensor\n",
    "my_scalar = torch.tensor(1)"
   ]
  },
  {
   "cell_type": "code",
   "execution_count": 3,
   "metadata": {
    "collapsed": false
   },
   "outputs": [
    {
     "name": "stdout",
     "output_type": "stream",
     "text": [
      "tensor(1)\n"
     ]
    }
   ],
   "source": [
    "print(my_scalar)"
   ]
  },
  {
   "cell_type": "code",
   "execution_count": 4,
   "metadata": {
    "collapsed": false
   },
   "outputs": [
    {
     "name": "stdout",
     "output_type": "stream",
     "text": [
      "torch.Size([])\n"
     ]
    }
   ],
   "source": [
    "# get the size\n",
    "print(my_scalar.size())"
   ]
  },
  {
   "cell_type": "code",
   "execution_count": 5,
   "metadata": {
    "collapsed": false
   },
   "outputs": [
    {
     "name": "stdout",
     "output_type": "stream",
     "text": [
      "1\n"
     ]
    }
   ],
   "source": [
    "# get the value\n",
    "print(my_scalar.item())"
   ]
  },
  {
   "cell_type": "code",
   "execution_count": 6,
   "metadata": {
    "collapsed": false
   },
   "outputs": [
    {
     "data": {
      "text/plain": [
       "torch.int64"
      ]
     },
     "execution_count": 6,
     "metadata": {},
     "output_type": "execute_result"
    }
   ],
   "source": [
    "my_scalar.dtype"
   ]
  },
  {
   "cell_type": "code",
   "execution_count": 7,
   "metadata": {
    "collapsed": true
   },
   "outputs": [],
   "source": [
    "# a vector of 9 integers (a 1-dimensional tensor)\n",
    "my_vector_int = torch.tensor([1, 2, 3, 4, 5, 6, 7, 8, 9])\n",
    "# a vector of 9 floating point numbers\n",
    "my_vector_float = torch.FloatTensor([1, 2, 3, 4, 5, 6, 7, 8, 9])"
   ]
  },
  {
   "cell_type": "code",
   "execution_count": 8,
   "metadata": {
    "collapsed": false
   },
   "outputs": [
    {
     "name": "stdout",
     "output_type": "stream",
     "text": [
      "tensor([1, 2, 3, 4, 5, 6, 7, 8, 9])\n"
     ]
    }
   ],
   "source": [
    "# get the tensor\n",
    "print(my_vector_int)"
   ]
  },
  {
   "cell_type": "code",
   "execution_count": 9,
   "metadata": {
    "collapsed": false
   },
   "outputs": [
    {
     "data": {
      "text/plain": [
       "torch.int64"
      ]
     },
     "execution_count": 9,
     "metadata": {},
     "output_type": "execute_result"
    }
   ],
   "source": [
    "my_vector_int.dtype"
   ]
  },
  {
   "cell_type": "code",
   "execution_count": 10,
   "metadata": {
    "collapsed": false
   },
   "outputs": [
    {
     "data": {
      "text/plain": [
       "torch.float32"
      ]
     },
     "execution_count": 10,
     "metadata": {},
     "output_type": "execute_result"
    }
   ],
   "source": [
    "my_vector_float.dtype"
   ]
  },
  {
   "cell_type": "code",
   "execution_count": 11,
   "metadata": {
    "collapsed": false
   },
   "outputs": [
    {
     "name": "stdout",
     "output_type": "stream",
     "text": [
      "torch.Size([9])\n"
     ]
    }
   ],
   "source": [
    "# get the size\n",
    "print(my_vector_int.shape)"
   ]
  },
  {
   "cell_type": "code",
   "execution_count": 12,
   "metadata": {
    "collapsed": false
   },
   "outputs": [
    {
     "name": "stdout",
     "output_type": "stream",
     "text": [
      "tensor([1., 2., 3., 4., 5., 6., 7., 8., 9.])\n"
     ]
    }
   ],
   "source": [
    "print(my_vector_float)"
   ]
  },
  {
   "cell_type": "code",
   "execution_count": 13,
   "metadata": {
    "collapsed": false
   },
   "outputs": [
    {
     "name": "stdout",
     "output_type": "stream",
     "text": [
      "[1 2 3 4 5 6 7 8 9]\n"
     ]
    }
   ],
   "source": [
    "## convert my int tensor into a numpy array\n",
    "print(my_vector_int.numpy())"
   ]
  },
  {
   "cell_type": "code",
   "execution_count": 14,
   "metadata": {
    "collapsed": false
   },
   "outputs": [
    {
     "data": {
      "text/plain": [
       "tensor([1, 2, 3, 4])"
      ]
     },
     "execution_count": 14,
     "metadata": {},
     "output_type": "execute_result"
    }
   ],
   "source": [
    "## from numpy to tensor\n",
    "my_array = np.array([1, 2, 3, 4])\n",
    "torch.from_numpy(my_array)"
   ]
  },
  {
   "cell_type": "code",
   "execution_count": 15,
   "metadata": {
    "collapsed": false
   },
   "outputs": [
    {
     "data": {
      "text/plain": [
       "array([1, 2, 3, 4])"
      ]
     },
     "execution_count": 15,
     "metadata": {},
     "output_type": "execute_result"
    }
   ],
   "source": [
    "# from tensor to numpy\n",
    "torch.from_numpy(my_array).numpy()"
   ]
  },
  {
   "cell_type": "code",
   "execution_count": 16,
   "metadata": {
    "collapsed": false
   },
   "outputs": [
    {
     "name": "stdout",
     "output_type": "stream",
     "text": [
      "My int tensor data type:  torch.int64\n",
      "My float tensor data type:  torch.float32\n"
     ]
    }
   ],
   "source": [
    "# get the datatype\n",
    "print('My int tensor data type: ', my_vector_int.dtype)\n",
    "print('My float tensor data type: ', my_vector_float.dtype)"
   ]
  },
  {
   "cell_type": "code",
   "execution_count": 17,
   "metadata": {
    "collapsed": false
   },
   "outputs": [
    {
     "name": "stdout",
     "output_type": "stream",
     "text": [
      "The size of my int tensor:  torch.Size([9])\n",
      "The size of my float tensor:  torch.Size([9])\n"
     ]
    }
   ],
   "source": [
    "# get the size\n",
    "print('The size of my int tensor: ', my_vector_int.size())\n",
    "print('The size of my float tensor: ', my_vector_float.size())"
   ]
  },
  {
   "cell_type": "code",
   "execution_count": 18,
   "metadata": {
    "collapsed": false
   },
   "outputs": [
    {
     "data": {
      "text/plain": [
       "tensor([[1, 2, 3],\n",
       "        [4, 5, 6],\n",
       "        [7, 8, 9]])"
      ]
     },
     "execution_count": 18,
     "metadata": {},
     "output_type": "execute_result"
    }
   ],
   "source": [
    "# reshape a tensor\n",
    "my_vector_int.view(3, 3)"
   ]
  },
  {
   "cell_type": "code",
   "execution_count": 19,
   "metadata": {
    "collapsed": false
   },
   "outputs": [
    {
     "data": {
      "text/plain": [
       "tensor([[1, 2, 3],\n",
       "        [4, 5, 6],\n",
       "        [7, 8, 9]])"
      ]
     },
     "execution_count": 19,
     "metadata": {},
     "output_type": "execute_result"
    }
   ],
   "source": [
    "my_vector_int.view(3, -1)"
   ]
  },
  {
   "cell_type": "code",
   "execution_count": 20,
   "metadata": {
    "collapsed": false
   },
   "outputs": [
    {
     "data": {
      "text/plain": [
       "tensor([[[1],\n",
       "         [2],\n",
       "         [3]],\n",
       "\n",
       "        [[4],\n",
       "         [5],\n",
       "         [6]],\n",
       "\n",
       "        [[7],\n",
       "         [8],\n",
       "         [9]]])"
      ]
     },
     "execution_count": 20,
     "metadata": {},
     "output_type": "execute_result"
    }
   ],
   "source": [
    "my_vector_int.view(3, 3, -1)"
   ]
  },
  {
   "cell_type": "code",
   "execution_count": 21,
   "metadata": {
    "collapsed": false
   },
   "outputs": [
    {
     "data": {
      "text/plain": [
       "tensor([[[1],\n",
       "         [2],\n",
       "         [3]],\n",
       "\n",
       "        [[4],\n",
       "         [5],\n",
       "         [6]],\n",
       "\n",
       "        [[7],\n",
       "         [8],\n",
       "         [9]]])"
      ]
     },
     "execution_count": 21,
     "metadata": {},
     "output_type": "execute_result"
    }
   ],
   "source": [
    "my_vector_int.view(3, 3, 1)"
   ]
  },
  {
   "cell_type": "markdown",
   "metadata": {},
   "source": [
    "### Basic tensor operations"
   ]
  },
  {
   "cell_type": "markdown",
   "metadata": {},
   "source": [
    "Pytorch supports all the basic mathematical operations."
   ]
  },
  {
   "cell_type": "code",
   "execution_count": 22,
   "metadata": {
    "collapsed": false
   },
   "outputs": [
    {
     "name": "stdout",
     "output_type": "stream",
     "text": [
      "tensor([5, 7, 9])\n",
      "tensor([-3, -3, -3])\n",
      "tensor(32)\n",
      "tensor([2, 4, 6])\n"
     ]
    }
   ],
   "source": [
    "t1 = torch.tensor([1, 2, 3])\n",
    "t2 = torch.tensor([4, 5, 6])\n",
    "## addition\n",
    "print(t1 + t2)\n",
    "\n",
    "## subtraction \n",
    "print(t1 - t2)\n",
    "\n",
    "##dot product\n",
    "print(torch.dot(t1, t2))\n",
    "\n",
    "## scalar multiplication\n",
    "print(2*t1)"
   ]
  },
  {
   "cell_type": "code",
   "execution_count": 23,
   "metadata": {
    "collapsed": false
   },
   "outputs": [
    {
     "data": {
      "text/plain": [
       "tensor([5, 7, 9])"
      ]
     },
     "execution_count": 23,
     "metadata": {},
     "output_type": "execute_result"
    }
   ],
   "source": [
    "# inplace addition\n",
    "t1.add_(t2)"
   ]
  },
  {
   "cell_type": "code",
   "execution_count": 24,
   "metadata": {
    "collapsed": false
   },
   "outputs": [
    {
     "data": {
      "text/plain": [
       "tensor([1, 2, 3])"
      ]
     },
     "execution_count": 24,
     "metadata": {},
     "output_type": "execute_result"
    }
   ],
   "source": [
    "# inplace substraction\n",
    "t1.sub_(t2)"
   ]
  },
  {
   "cell_type": "code",
   "execution_count": 25,
   "metadata": {
    "collapsed": false
   },
   "outputs": [
    {
     "data": {
      "text/plain": [
       "tensor([1, 2, 3])"
      ]
     },
     "execution_count": 25,
     "metadata": {},
     "output_type": "execute_result"
    }
   ],
   "source": [
    "t1"
   ]
  },
  {
   "cell_type": "markdown",
   "metadata": {},
   "source": [
    "### Accessing elements"
   ]
  },
  {
   "cell_type": "markdown",
   "metadata": {},
   "source": [
    "In term of accessing element, pytorch behave the same way as numpy"
   ]
  },
  {
   "cell_type": "code",
   "execution_count": 26,
   "metadata": {
    "collapsed": true
   },
   "outputs": [],
   "source": [
    "my_tensor = torch.arange(0, 9).view(3, 3)"
   ]
  },
  {
   "cell_type": "code",
   "execution_count": 27,
   "metadata": {
    "collapsed": false
   },
   "outputs": [
    {
     "data": {
      "text/plain": [
       "tensor([[0, 1, 2],\n",
       "        [3, 4, 5],\n",
       "        [6, 7, 8]])"
      ]
     },
     "execution_count": 27,
     "metadata": {},
     "output_type": "execute_result"
    }
   ],
   "source": [
    "my_tensor"
   ]
  },
  {
   "cell_type": "code",
   "execution_count": 28,
   "metadata": {
    "collapsed": false
   },
   "outputs": [
    {
     "data": {
      "text/plain": [
       "torch.Size([3, 3])"
      ]
     },
     "execution_count": 28,
     "metadata": {},
     "output_type": "execute_result"
    }
   ],
   "source": [
    "my_tensor.shape"
   ]
  },
  {
   "cell_type": "code",
   "execution_count": 29,
   "metadata": {
    "collapsed": false
   },
   "outputs": [
    {
     "data": {
      "text/plain": [
       "tensor([0, 3, 6])"
      ]
     },
     "execution_count": 29,
     "metadata": {},
     "output_type": "execute_result"
    }
   ],
   "source": [
    "my_tensor[:, 0]"
   ]
  },
  {
   "cell_type": "code",
   "execution_count": 30,
   "metadata": {
    "collapsed": false
   },
   "outputs": [
    {
     "data": {
      "text/plain": [
       "tensor([1, 4, 7])"
      ]
     },
     "execution_count": 30,
     "metadata": {},
     "output_type": "execute_result"
    }
   ],
   "source": [
    "my_tensor[:,1 ]"
   ]
  },
  {
   "cell_type": "code",
   "execution_count": 31,
   "metadata": {
    "collapsed": false
   },
   "outputs": [],
   "source": [
    "my_tensor3 = torch.arange(18).view(3, 2, 3)"
   ]
  },
  {
   "cell_type": "code",
   "execution_count": 32,
   "metadata": {
    "collapsed": false
   },
   "outputs": [
    {
     "data": {
      "text/plain": [
       "tensor([[[ 0,  1,  2],\n",
       "         [ 3,  4,  5]],\n",
       "\n",
       "        [[ 6,  7,  8],\n",
       "         [ 9, 10, 11]],\n",
       "\n",
       "        [[12, 13, 14],\n",
       "         [15, 16, 17]]])"
      ]
     },
     "execution_count": 32,
     "metadata": {},
     "output_type": "execute_result"
    }
   ],
   "source": [
    "my_tensor3"
   ]
  },
  {
   "cell_type": "code",
   "execution_count": 33,
   "metadata": {
    "collapsed": false
   },
   "outputs": [
    {
     "data": {
      "text/plain": [
       "tensor([ 7, 10])"
      ]
     },
     "execution_count": 33,
     "metadata": {},
     "output_type": "execute_result"
    }
   ],
   "source": [
    "my_tensor3[1, 0:2, 1]"
   ]
  },
  {
   "cell_type": "code",
   "execution_count": 34,
   "metadata": {
    "collapsed": false
   },
   "outputs": [
    {
     "data": {
      "text/plain": [
       "tensor([[ 2,  5],\n",
       "        [ 8, 11],\n",
       "        [14, 17]])"
      ]
     },
     "execution_count": 34,
     "metadata": {},
     "output_type": "execute_result"
    }
   ],
   "source": [
    "my_tensor3[:, :, -1]"
   ]
  },
  {
   "cell_type": "markdown",
   "metadata": {},
   "source": [
    "## A perceptron: a single neuron neural network"
   ]
  },
  {
   "cell_type": "markdown",
   "metadata": {},
   "source": [
    "In this section, we will create a single neuron neural network. We will use it to classify random points that we have generated. As you can see in the figure below, our Perceptron has two input variables - *x1*, *x2* - and a bias term (1). The variables and the bias term will form a linear combination that we will call *h*. *h* will be the input of a non-linear function *f* that will output the predictions."
   ]
  },
  {
   "cell_type": "markdown",
   "metadata": {},
   "source": [
    "<img src=\"images/simple_neuron.png\" width=400px>"
   ]
  },
  {
   "cell_type": "markdown",
   "metadata": {},
   "source": [
    "Mathematically this looks like: \n",
    "\n",
    "$$\n",
    "\\begin{align}\n",
    "y &= f(w_1 x_1 + w_2 x_2 + b) \\\\\n",
    "y &= f\\left(\\sum_i w_i x_i +b \\right)\n",
    "\\end{align}\n",
    "$$\n",
    "\n",
    "With vectors this is the dot/inner product of two vectors:\n",
    "\n",
    "$$\n",
    "h = \\begin{bmatrix}\n",
    "x_1 \\, x_2 \\cdots  x_n\n",
    "\\end{bmatrix}\n",
    "\\cdot \n",
    "\\begin{bmatrix}\n",
    "           w_1 \\\\\n",
    "           w_2 \\\\\n",
    "           \\vdots \\\\\n",
    "           w_n\n",
    "\\end{bmatrix}\n",
    "$$"
   ]
  },
  {
   "cell_type": "markdown",
   "metadata": {},
   "source": [
    "We will use the a *Sigmoid* function as our non-linear function"
   ]
  },
  {
   "cell_type": "markdown",
   "metadata": {},
   "source": [
    "<img src='images/sigmoid.png' />"
   ]
  },
  {
   "cell_type": "markdown",
   "metadata": {},
   "source": [
    "### Creating the dataset"
   ]
  },
  {
   "cell_type": "markdown",
   "metadata": {},
   "source": [
    "We will randomly generate data to build our Perceptron."
   ]
  },
  {
   "cell_type": "code",
   "execution_count": 35,
   "metadata": {
    "collapsed": true
   },
   "outputs": [],
   "source": [
    "# useful libraries\n",
    "from sklearn import datasets\n",
    "import matplotlib.pyplot as plt\n",
    "import torch.nn as nn"
   ]
  },
  {
   "cell_type": "code",
   "execution_count": 36,
   "metadata": {
    "collapsed": false
   },
   "outputs": [],
   "source": [
    "# number of data points we would like to generate\n",
    "n_pts = 200\n",
    "\n",
    "# two centers points for our class\n",
    "centers = [[-0.5, 0.5], [0.5, -0.5]]\n",
    "\n",
    "# generate the data\n",
    "X, y = datasets.make_blobs(n_samples=n_pts, random_state=123, centers=centers, cluster_std=0.3)"
   ]
  },
  {
   "cell_type": "code",
   "execution_count": 37,
   "metadata": {
    "collapsed": false
   },
   "outputs": [
    {
     "name": "stdout",
     "output_type": "stream",
     "text": [
      "[[ 0.12613401  0.54933237]\n",
      " [-0.44568946  0.85335858]\n",
      " [-0.46377579  0.72446469]\n",
      " [ 0.38727503 -0.91391749]\n",
      " [ 0.40284206 -0.55648906]\n",
      " [ 0.37957567 -0.29795262]\n",
      " [-0.8146975   0.47746382]\n",
      " [-0.06654771 -0.83849916]\n",
      " [ 0.63076273 -0.5956871 ]\n",
      " [ 0.41753674 -0.92482468]] [0 0 0 1 1 1 0 1 1 1]\n"
     ]
    }
   ],
   "source": [
    "print(X[:10], y[:10])"
   ]
  },
  {
   "cell_type": "code",
   "execution_count": 38,
   "metadata": {
    "collapsed": false
   },
   "outputs": [
    {
     "data": {
      "image/png": "[encoded data removed]",
      "text/plain": [
       "<matplotlib.figure.Figure at 0x1a16eecd68>"
      ]
     },
     "metadata": {},
     "output_type": "display_data"
    }
   ],
   "source": [
    "# plot the generated data\n",
    "def scatter_plot():\n",
    "    plt.scatter(X[y==0, 0], X[y==0, 1])\n",
    "    plt.scatter(X[y==1, 0], X[y==1, 1])\n",
    "scatter_plot()\n",
    "plt.show()"
   ]
  },
  {
   "cell_type": "markdown",
   "metadata": {},
   "source": [
    "We can see that our data is linearly separable. We will our Perceptron to find the best fit."
   ]
  },
  {
   "cell_type": "code",
   "execution_count": 39,
   "metadata": {
    "collapsed": false
   },
   "outputs": [],
   "source": [
    "# create our tensor\n",
    "x_data = torch.Tensor(X)\n",
    "y_data = torch.Tensor(y).view(-1, 1)"
   ]
  },
  {
   "cell_type": "code",
   "execution_count": 40,
   "metadata": {
    "collapsed": false
   },
   "outputs": [],
   "source": [
    "# define our perceptron model\n",
    "class Perceptron(nn.Module):\n",
    "    \"\"\"Perceptron model\"\"\"\n",
    "    \n",
    "    def __init__(self, input_size, output_size):\n",
    "        \"\"\"Our perceptron has 2 inputs and 1 output   \n",
    "        \"\"\"\n",
    "        super().__init__()\n",
    "        \n",
    "        # h = w_1*x_1 + w_2*x_2 + b\n",
    "        self.linear = nn.Linear(input_size, output_size)\n",
    "        \n",
    "    def forward(self, x):\n",
    "        \"\"\"Forward pass.\n",
    "        \n",
    "        \"\"\"\n",
    "        #  sigmoid(w_1*x_1 + w_2*x_2 + b)\n",
    "        pred = self.activation(self.linear(x))\n",
    "        return pred\n",
    "        \n",
    "    def activation(self, x):\n",
    "        \"\"\"Sigmoid activation function\n",
    "        \"\"\"\n",
    "        return 1/(1 + torch.exp(-x))\n",
    "    \n",
    "    def predict(self, x):\n",
    "        \"\"\"Predict the out given the input.\n",
    "        \"\"\"\n",
    "        pred = self.forward(x)\n",
    "        if pred >= 0.5:\n",
    "            return 1\n",
    "        else:\n",
    "            return 0"
   ]
  },
  {
   "cell_type": "code",
   "execution_count": 41,
   "metadata": {
    "collapsed": false
   },
   "outputs": [],
   "source": [
    "# set the seed\n",
    "torch.manual_seed(1)\n",
    "# create the model\n",
    "perceptron = Perceptron(2, 1)"
   ]
  },
  {
   "cell_type": "code",
   "execution_count": 42,
   "metadata": {
    "collapsed": false
   },
   "outputs": [
    {
     "data": {
      "text/plain": [
       "Perceptron(\n",
       "  (linear): Linear(in_features=2, out_features=1, bias=True)\n",
       ")"
      ]
     },
     "execution_count": 42,
     "metadata": {},
     "output_type": "execute_result"
    }
   ],
   "source": [
    "perceptron"
   ]
  },
  {
   "cell_type": "markdown",
   "metadata": {},
   "source": [
    "Before to train our model, let's take a look at the initials parameters"
   ]
  },
  {
   "cell_type": "code",
   "execution_count": 43,
   "metadata": {
    "collapsed": true
   },
   "outputs": [],
   "source": [
    "# get the initial parameters(weights (w1, w2) and bias (b))\n",
    "[w, b] = perceptron.parameters()"
   ]
  },
  {
   "cell_type": "code",
   "execution_count": 44,
   "metadata": {
    "collapsed": false
   },
   "outputs": [
    {
     "name": "stdout",
     "output_type": "stream",
     "text": [
      "Parameter containing:\n",
      "tensor([[ 0.3643, -0.3121]], requires_grad=True) Parameter containing:\n",
      "tensor([-0.1371], requires_grad=True)\n"
     ]
    }
   ],
   "source": [
    "# initial tensor value\n",
    "print(w, b)"
   ]
  },
  {
   "cell_type": "code",
   "execution_count": 45,
   "metadata": {
    "collapsed": false
   },
   "outputs": [
    {
     "name": "stdout",
     "output_type": "stream",
     "text": [
      "0.36434608697891235 -0.3121015429496765\n"
     ]
    }
   ],
   "source": [
    "# initial w\n",
    "w1, w2 = w.view(2)\n",
    "print(w1.item(), w2.item())"
   ]
  },
  {
   "cell_type": "code",
   "execution_count": 46,
   "metadata": {
    "collapsed": false
   },
   "outputs": [
    {
     "name": "stdout",
     "output_type": "stream",
     "text": [
      "-0.13708078861236572\n"
     ]
    }
   ],
   "source": [
    "# initial b\n",
    "print(b[0].item())"
   ]
  },
  {
   "cell_type": "code",
   "execution_count": 47,
   "metadata": {
    "collapsed": true
   },
   "outputs": [],
   "source": [
    "# get the parameters\n",
    "def get_params():\n",
    "    \"\"\"get the parameters\n",
    "    \"\"\"\n",
    "    return [w1.item(), w2.item(), b[0].item()]"
   ]
  },
  {
   "cell_type": "code",
   "execution_count": 48,
   "metadata": {
    "collapsed": true
   },
   "outputs": [],
   "source": [
    "# \n",
    "def plot_fit(title):\n",
    "    \"\"\"Plot the fit\n",
    "    \"\"\"\n",
    "    plt.title(title)\n",
    "    w1, w2, b1 = get_params()\n",
    "    x1 = np.array([-2.0, 2.0])\n",
    "    x2 = (w1*x1 + b1)/ (-w2)\n",
    "    plt.plot(x1, x2, 'r')\n",
    "    scatter_plot()\n",
    "    "
   ]
  },
  {
   "cell_type": "code",
   "execution_count": 49,
   "metadata": {
    "collapsed": false
   },
   "outputs": [
    {
     "data": {
      "image/png": "[encoded data removed]",
      "text/plain": [
       "<matplotlib.figure.Figure at 0x1a1adda3c8>"
      ]
     },
     "metadata": {},
     "output_type": "display_data"
    }
   ],
   "source": [
    "# plot the initial model\n",
    "plot_fit('Initial model')\n",
    "plt.show()"
   ]
  },
  {
   "cell_type": "markdown",
   "metadata": {},
   "source": [
    "Now let's set up our loss. We will use the binary cross entropy loss."
   ]
  },
  {
   "cell_type": "code",
   "execution_count": 50,
   "metadata": {
    "collapsed": false
   },
   "outputs": [],
   "source": [
    "## criterion: binary cross entropy loss\n",
    "criterion = nn.BCELoss()\n",
    "\n",
    "## we will use the stochastistic gradient descent\n",
    "optimizer = torch.optim.SGD(perceptron.parameters(), lr=0.01)"
   ]
  },
  {
   "cell_type": "code",
   "execution_count": 51,
   "metadata": {
    "collapsed": false
   },
   "outputs": [
    {
     "name": "stdout",
     "output_type": "stream",
     "text": [
      "Epoch:  0 loss:  0.5500900745391846\n",
      "Epoch:  1 loss:  0.549330472946167\n",
      "Epoch:  2 loss:  0.5485723614692688\n",
      "Epoch:  3 loss:  0.5478165745735168\n",
      "Epoch:  4 loss:  0.5470625162124634\n",
      "Epoch:  5 loss:  0.5463106036186218\n",
      "Epoch:  6 loss:  0.5455605983734131\n",
      "Epoch:  7 loss:  0.5448127388954163\n",
      "Epoch:  8 loss:  0.5440664887428284\n",
      "Epoch:  9 loss:  0.5433222651481628\n",
      "Epoch:  10 loss:  0.5425801873207092\n",
      "Epoch:  11 loss:  0.5418400764465332\n",
      "Epoch:  12 loss:  0.5411017537117004\n",
      "Epoch:  13 loss:  0.5403653979301453\n",
      "Epoch:  14 loss:  0.5396308898925781\n",
      "Epoch:  15 loss:  0.5388985872268677\n",
      "Epoch:  16 loss:  0.5381679534912109\n",
      "Epoch:  17 loss:  0.5374391674995422\n",
      "Epoch:  18 loss:  0.5367124676704407\n",
      "Epoch:  19 loss:  0.5359874963760376\n",
      "Epoch:  20 loss:  0.5352646112442017\n",
      "Epoch:  21 loss:  0.5345433354377747\n",
      "Epoch:  22 loss:  0.5338240265846252\n",
      "Epoch:  23 loss:  0.5331066846847534\n",
      "Epoch:  24 loss:  0.5323909521102905\n",
      "Epoch:  25 loss:  0.5316774845123291\n",
      "Epoch:  26 loss:  0.5309657454490662\n",
      "Epoch:  27 loss:  0.5302556157112122\n",
      "Epoch:  28 loss:  0.5295476913452148\n",
      "Epoch:  29 loss:  0.5288411974906921\n",
      "Epoch:  30 loss:  0.5281369090080261\n",
      "Epoch:  31 loss:  0.5274341702461243\n",
      "Epoch:  32 loss:  0.5267333984375\n",
      "Epoch:  33 loss:  0.5260343551635742\n",
      "Epoch:  34 loss:  0.5253373384475708\n",
      "Epoch:  35 loss:  0.5246416330337524\n",
      "Epoch:  36 loss:  0.5239483714103699\n",
      "Epoch:  37 loss:  0.5232563614845276\n",
      "Epoch:  38 loss:  0.5225661993026733\n",
      "Epoch:  39 loss:  0.5218780636787415\n",
      "Epoch:  40 loss:  0.521191418170929\n",
      "Epoch:  41 loss:  0.5205069184303284\n",
      "Epoch:  42 loss:  0.5198238492012024\n",
      "Epoch:  43 loss:  0.519142746925354\n",
      "Epoch:  44 loss:  0.5184627771377563\n",
      "Epoch:  45 loss:  0.5177853107452393\n",
      "Epoch:  46 loss:  0.5171094536781311\n",
      "Epoch:  47 loss:  0.5164352655410767\n",
      "Epoch:  48 loss:  0.5157626867294312\n",
      "Epoch:  49 loss:  0.5150918364524841\n",
      "Epoch:  50 loss:  0.5144227743148804\n",
      "Epoch:  51 loss:  0.5137554407119751\n",
      "Epoch:  52 loss:  0.5130895376205444\n",
      "Epoch:  53 loss:  0.5124256610870361\n",
      "Epoch:  54 loss:  0.5117633938789368\n",
      "Epoch:  55 loss:  0.5111027359962463\n",
      "Epoch:  56 loss:  0.510443925857544\n",
      "Epoch:  57 loss:  0.5097866058349609\n",
      "Epoch:  58 loss:  0.5091308355331421\n",
      "Epoch:  59 loss:  0.508476972579956\n",
      "Epoch:  60 loss:  0.5078246593475342\n",
      "Epoch:  61 loss:  0.5071743130683899\n",
      "Epoch:  62 loss:  0.5065250992774963\n",
      "Epoch:  63 loss:  0.5058779120445251\n",
      "Epoch:  64 loss:  0.5052321553230286\n",
      "Epoch:  65 loss:  0.5045881867408752\n",
      "Epoch:  66 loss:  0.5039458274841309\n",
      "Epoch:  67 loss:  0.5033050775527954\n",
      "Epoch:  68 loss:  0.5026658773422241\n",
      "Epoch:  69 loss:  0.5020282864570618\n",
      "Epoch:  70 loss:  0.5013924241065979\n",
      "Epoch:  71 loss:  0.500758171081543\n",
      "Epoch:  72 loss:  0.5001251101493835\n",
      "Epoch:  73 loss:  0.49949416518211365\n",
      "Epoch:  74 loss:  0.4988647699356079\n",
      "Epoch:  75 loss:  0.4982367753982544\n",
      "Epoch:  76 loss:  0.4976102411746979\n",
      "Epoch:  77 loss:  0.49698540568351746\n",
      "Epoch:  78 loss:  0.4963621199131012\n",
      "Epoch:  79 loss:  0.4957403540611267\n",
      "Epoch:  80 loss:  0.49512046575546265\n",
      "Epoch:  81 loss:  0.49450162053108215\n",
      "Epoch:  82 loss:  0.4938846826553345\n",
      "Epoch:  83 loss:  0.493269145488739\n",
      "Epoch:  84 loss:  0.49265536665916443\n",
      "Epoch:  85 loss:  0.4920426607131958\n",
      "Epoch:  86 loss:  0.49143195152282715\n",
      "Epoch:  87 loss:  0.490822434425354\n",
      "Epoch:  88 loss:  0.4902147054672241\n",
      "Epoch:  89 loss:  0.4896083474159241\n",
      "Epoch:  90 loss:  0.48900356888771057\n",
      "Epoch:  91 loss:  0.48840028047561646\n",
      "Epoch:  92 loss:  0.48779842257499695\n",
      "Epoch:  93 loss:  0.4871981143951416\n",
      "Epoch:  94 loss:  0.4865991473197937\n",
      "Epoch:  95 loss:  0.4860018193721771\n",
      "Epoch:  96 loss:  0.48540595173835754\n",
      "Epoch:  97 loss:  0.48481133580207825\n",
      "Epoch:  98 loss:  0.4842184782028198\n",
      "Epoch:  99 loss:  0.48362720012664795\n",
      "Epoch:  100 loss:  0.4830368757247925\n",
      "Epoch:  101 loss:  0.4824486970901489\n",
      "Epoch:  102 loss:  0.4818613827228546\n",
      "Epoch:  103 loss:  0.4812757968902588\n",
      "Epoch:  104 loss:  0.48069146275520325\n",
      "Epoch:  105 loss:  0.48010870814323425\n",
      "Epoch:  106 loss:  0.4795271158218384\n",
      "Epoch:  107 loss:  0.4789474904537201\n",
      "Epoch:  108 loss:  0.4783689081668854\n",
      "Epoch:  109 loss:  0.47779202461242676\n",
      "Epoch:  110 loss:  0.4772159457206726\n",
      "Epoch:  111 loss:  0.47664207220077515\n",
      "Epoch:  112 loss:  0.47606906294822693\n",
      "Epoch:  113 loss:  0.47549769282341003\n",
      "Epoch:  114 loss:  0.47492775321006775\n",
      "Epoch:  115 loss:  0.4743589460849762\n",
      "Epoch:  116 loss:  0.47379177808761597\n",
      "Epoch:  117 loss:  0.47322577238082886\n",
      "Epoch:  118 loss:  0.4726613759994507\n",
      "Epoch:  119 loss:  0.47209838032722473\n",
      "Epoch:  120 loss:  0.4715365171432495\n",
      "Epoch:  121 loss:  0.4709759056568146\n",
      "Epoch:  122 loss:  0.4704170525074005\n",
      "Epoch:  123 loss:  0.46985936164855957\n",
      "Epoch:  124 loss:  0.4693029522895813\n",
      "Epoch:  125 loss:  0.46874818205833435\n",
      "Epoch:  126 loss:  0.4681944251060486\n",
      "Epoch:  127 loss:  0.4676420986652374\n",
      "Epoch:  128 loss:  0.46709129214286804\n",
      "Epoch:  129 loss:  0.46654170751571655\n",
      "Epoch:  130 loss:  0.46599334478378296\n",
      "Epoch:  131 loss:  0.46544620394706726\n",
      "Epoch:  132 loss:  0.4649006724357605\n",
      "Epoch:  133 loss:  0.464356392621994\n",
      "Epoch:  134 loss:  0.4638133645057678\n",
      "Epoch:  135 loss:  0.4632715582847595\n",
      "Epoch:  136 loss:  0.46273112297058105\n",
      "Epoch:  137 loss:  0.4621918797492981\n",
      "Epoch:  138 loss:  0.4616542160511017\n",
      "Epoch:  139 loss:  0.4611176550388336\n",
      "Epoch:  140 loss:  0.46058255434036255\n",
      "Epoch:  141 loss:  0.4600484371185303\n",
      "Epoch:  142 loss:  0.4595157504081726\n",
      "Epoch:  143 loss:  0.45898446440696716\n",
      "Epoch:  144 loss:  0.45845431089401245\n",
      "Epoch:  145 loss:  0.4579254984855652\n",
      "Epoch:  146 loss:  0.4573977291584015\n",
      "Epoch:  147 loss:  0.4568714201450348\n",
      "Epoch:  148 loss:  0.4563465416431427\n",
      "Epoch:  149 loss:  0.4558224081993103\n",
      "Epoch:  150 loss:  0.4552997946739197\n",
      "Epoch:  151 loss:  0.45477837324142456\n",
      "Epoch:  152 loss:  0.45425841212272644\n",
      "Epoch:  153 loss:  0.45373931527137756\n",
      "Epoch:  154 loss:  0.4532219171524048\n",
      "Epoch:  155 loss:  0.45270535349845886\n",
      "Epoch:  156 loss:  0.452190101146698\n",
      "Epoch:  157 loss:  0.45167627930641174\n",
      "Epoch:  158 loss:  0.4511634111404419\n",
      "Epoch:  159 loss:  0.45065194368362427\n",
      "Epoch:  160 loss:  0.4501415491104126\n",
      "Epoch:  161 loss:  0.449632465839386\n",
      "Epoch:  162 loss:  0.4491243362426758\n",
      "Epoch:  163 loss:  0.4486175775527954\n",
      "Epoch:  164 loss:  0.4481119215488434\n",
      "Epoch:  165 loss:  0.4476078152656555\n",
      "Epoch:  166 loss:  0.44710469245910645\n",
      "Epoch:  167 loss:  0.44660258293151855\n",
      "Epoch:  168 loss:  0.44610169529914856\n",
      "Epoch:  169 loss:  0.4456021189689636\n",
      "Epoch:  170 loss:  0.4451034963130951\n",
      "Epoch:  171 loss:  0.4446062445640564\n",
      "Epoch:  172 loss:  0.4441101849079132\n",
      "Epoch:  173 loss:  0.4436150789260864\n",
      "Epoch:  174 loss:  0.4431213140487671\n",
      "Epoch:  175 loss:  0.44262856245040894\n",
      "Epoch:  176 loss:  0.4421369433403015\n",
      "Epoch:  177 loss:  0.441646546125412\n",
      "Epoch:  178 loss:  0.4411574900150299\n",
      "Epoch:  179 loss:  0.4406692087650299\n",
      "Epoch:  180 loss:  0.4401821494102478\n",
      "Epoch:  181 loss:  0.4396964907646179\n",
      "Epoch:  182 loss:  0.4392116963863373\n",
      "Epoch:  183 loss:  0.4387281537055969\n",
      "Epoch:  184 loss:  0.43824559450149536\n",
      "Epoch:  185 loss:  0.4377640187740326\n",
      "Epoch:  186 loss:  0.43728381395339966\n",
      "Epoch:  187 loss:  0.4368049204349518\n",
      "Epoch:  188 loss:  0.4363265931606293\n",
      "Epoch:  189 loss:  0.4358498454093933\n",
      "Epoch:  190 loss:  0.43537402153015137\n",
      "Epoch:  191 loss:  0.43489930033683777\n",
      "Epoch:  192 loss:  0.4344257712364197\n",
      "Epoch:  193 loss:  0.43395301699638367\n",
      "Epoch:  194 loss:  0.43348151445388794\n",
      "Epoch:  195 loss:  0.43301117420196533\n",
      "Epoch:  196 loss:  0.4325418770313263\n",
      "Epoch:  197 loss:  0.432073712348938\n",
      "Epoch:  198 loss:  0.4316064715385437\n",
      "Epoch:  199 loss:  0.4311404824256897\n",
      "Epoch:  200 loss:  0.4306754171848297\n",
      "Epoch:  201 loss:  0.43021151423454285\n",
      "Epoch:  202 loss:  0.4297485053539276\n",
      "Epoch:  203 loss:  0.42928653955459595\n",
      "Epoch:  204 loss:  0.4288256764411926\n",
      "Epoch:  205 loss:  0.42836621403694153\n",
      "Epoch:  206 loss:  0.427907258272171\n",
      "Epoch:  207 loss:  0.42744964361190796\n",
      "Epoch:  208 loss:  0.42699307203292847\n",
      "Epoch:  209 loss:  0.42653751373291016\n",
      "Epoch:  210 loss:  0.426082968711853\n",
      "Epoch:  211 loss:  0.4256293773651123\n",
      "Epoch:  212 loss:  0.42517706751823425\n",
      "Epoch:  213 loss:  0.4247252643108368\n",
      "Epoch:  214 loss:  0.4242752194404602\n",
      "Epoch:  215 loss:  0.42382562160491943\n",
      "Epoch:  216 loss:  0.423377126455307\n",
      "Epoch:  217 loss:  0.4229297339916229\n",
      "Epoch:  218 loss:  0.42248329520225525\n",
      "Epoch:  219 loss:  0.42203789949417114\n",
      "Epoch:  220 loss:  0.42159366607666016\n",
      "Epoch:  221 loss:  0.42115020751953125\n",
      "Epoch:  222 loss:  0.42070794105529785\n",
      "Epoch:  223 loss:  0.4202665090560913\n",
      "Epoch:  224 loss:  0.41982606053352356\n",
      "Epoch:  225 loss:  0.4193864166736603\n",
      "Epoch:  226 loss:  0.41894805431365967\n",
      "Epoch:  227 loss:  0.4185105860233307\n",
      "Epoch:  228 loss:  0.41807425022125244\n",
      "Epoch:  229 loss:  0.417638897895813\n",
      "Epoch:  230 loss:  0.4172043204307556\n",
      "Epoch:  231 loss:  0.4167705774307251\n",
      "Epoch:  232 loss:  0.416337788105011\n",
      "Epoch:  233 loss:  0.4159063994884491\n",
      "Epoch:  234 loss:  0.4154757261276245\n",
      "Epoch:  235 loss:  0.41504591703414917\n",
      "Epoch:  236 loss:  0.4146173596382141\n",
      "Epoch:  237 loss:  0.4141893684864044\n",
      "Epoch:  238 loss:  0.413762629032135\n",
      "Epoch:  239 loss:  0.41333672404289246\n",
      "Epoch:  240 loss:  0.41291168332099915\n",
      "Epoch:  241 loss:  0.41248762607574463\n",
      "Epoch:  242 loss:  0.4120642840862274\n",
      "Epoch:  243 loss:  0.4116421937942505\n",
      "Epoch:  244 loss:  0.41122114658355713\n",
      "Epoch:  245 loss:  0.4108008146286011\n",
      "Epoch:  246 loss:  0.4103814959526062\n",
      "Epoch:  247 loss:  0.40996289253234863\n",
      "Epoch:  248 loss:  0.40954530239105225\n",
      "Epoch:  249 loss:  0.4091287851333618\n",
      "Epoch:  250 loss:  0.40871307253837585\n",
      "Epoch:  251 loss:  0.40829819440841675\n",
      "Epoch:  252 loss:  0.4078843593597412\n",
      "Epoch:  253 loss:  0.4074714779853821\n",
      "Epoch:  254 loss:  0.4070594012737274\n",
      "Epoch:  255 loss:  0.40664803981781006\n",
      "Epoch:  256 loss:  0.40623795986175537\n",
      "Epoch:  257 loss:  0.40582865476608276\n",
      "Epoch:  258 loss:  0.40542012453079224\n",
      "Epoch:  259 loss:  0.4050126373767853\n",
      "Epoch:  260 loss:  0.4046056866645813\n",
      "Epoch:  261 loss:  0.40419983863830566\n",
      "Epoch:  262 loss:  0.40379515290260315\n",
      "Epoch:  263 loss:  0.4033907949924469\n",
      "Epoch:  264 loss:  0.40298762917518616\n",
      "Epoch:  265 loss:  0.40258538722991943\n",
      "Epoch:  266 loss:  0.4021839499473572\n",
      "Epoch:  267 loss:  0.4017835557460785\n",
      "Epoch:  268 loss:  0.4013836681842804\n",
      "Epoch:  269 loss:  0.40098491311073303\n",
      "Epoch:  270 loss:  0.4005869925022125\n",
      "Epoch:  271 loss:  0.40018975734710693\n",
      "Epoch:  272 loss:  0.3997935950756073\n",
      "Epoch:  273 loss:  0.3993982672691345\n",
      "Epoch:  274 loss:  0.3990035653114319\n",
      "Epoch:  275 loss:  0.3986097276210785\n",
      "Epoch:  276 loss:  0.39821696281433105\n",
      "Epoch:  277 loss:  0.39782485365867615\n",
      "Epoch:  278 loss:  0.3974335789680481\n",
      "Epoch:  279 loss:  0.3970433175563812\n",
      "Epoch:  280 loss:  0.3966538906097412\n",
      "Epoch:  281 loss:  0.3962651193141937\n",
      "Epoch:  282 loss:  0.3958774507045746\n",
      "Epoch:  283 loss:  0.39549049735069275\n",
      "Epoch:  284 loss:  0.3951040506362915\n",
      "Epoch:  285 loss:  0.3947189748287201\n",
      "Epoch:  286 loss:  0.3943341076374054\n",
      "Epoch:  287 loss:  0.393950492143631\n",
      "Epoch:  288 loss:  0.39356762170791626\n",
      "Epoch:  289 loss:  0.3931856155395508\n",
      "Epoch:  290 loss:  0.39280417561531067\n",
      "Epoch:  291 loss:  0.3924238681793213\n",
      "Epoch:  292 loss:  0.39204421639442444\n",
      "Epoch:  293 loss:  0.39166536927223206\n",
      "Epoch:  294 loss:  0.39128702878952026\n",
      "Epoch:  295 loss:  0.39090999960899353\n",
      "Epoch:  296 loss:  0.39053359627723694\n",
      "Epoch:  297 loss:  0.39015793800354004\n",
      "Epoch:  298 loss:  0.38978293538093567\n",
      "Epoch:  299 loss:  0.38940876722335815\n",
      "Epoch:  300 loss:  0.3890356719493866\n",
      "Epoch:  301 loss:  0.3886631429195404\n",
      "Epoch:  302 loss:  0.3882913887500763\n",
      "Epoch:  303 loss:  0.3879204988479614\n",
      "Epoch:  304 loss:  0.38755032420158386\n",
      "Epoch:  305 loss:  0.3871809244155884\n",
      "Epoch:  306 loss:  0.3868120610713959\n",
      "Epoch:  307 loss:  0.38644447922706604\n",
      "Epoch:  308 loss:  0.3860774636268616\n",
      "Epoch:  309 loss:  0.3857109844684601\n",
      "Epoch:  310 loss:  0.38534554839134216\n",
      "Epoch:  311 loss:  0.384980708360672\n",
      "Epoch:  312 loss:  0.3846166729927063\n",
      "Epoch:  313 loss:  0.38425353169441223\n",
      "Epoch:  314 loss:  0.3838910162448883\n",
      "Epoch:  315 loss:  0.3835292458534241\n",
      "Epoch:  316 loss:  0.3831682503223419\n",
      "Epoch:  317 loss:  0.38280802965164185\n",
      "Epoch:  318 loss:  0.3824484348297119\n",
      "Epoch:  319 loss:  0.38208964467048645\n",
      "Epoch:  320 loss:  0.3817315697669983\n",
      "Epoch:  321 loss:  0.3813743591308594\n",
      "Epoch:  322 loss:  0.38101792335510254\n",
      "Epoch:  323 loss:  0.3806622624397278\n",
      "Epoch:  324 loss:  0.38030707836151123\n",
      "Epoch:  325 loss:  0.3799527883529663\n",
      "Epoch:  326 loss:  0.37959906458854675\n",
      "Epoch:  327 loss:  0.37924644351005554\n",
      "Epoch:  328 loss:  0.3788941204547882\n",
      "Epoch:  329 loss:  0.37854278087615967\n",
      "Epoch:  330 loss:  0.3781921863555908\n",
      "Epoch:  331 loss:  0.3778420686721802\n",
      "Epoch:  332 loss:  0.377492755651474\n",
      "Epoch:  333 loss:  0.37714430689811707\n",
      "Epoch:  334 loss:  0.3767964839935303\n",
      "Epoch:  335 loss:  0.3764494061470032\n",
      "Epoch:  336 loss:  0.37610316276550293\n",
      "Epoch:  337 loss:  0.37575721740722656\n",
      "Epoch:  338 loss:  0.3754122257232666\n",
      "Epoch:  339 loss:  0.3750680088996887\n",
      "Epoch:  340 loss:  0.37472453713417053\n",
      "Epoch:  341 loss:  0.3743816018104553\n",
      "Epoch:  342 loss:  0.3740392029285431\n",
      "Epoch:  343 loss:  0.3736978769302368\n",
      "Epoch:  344 loss:  0.37335696816444397\n",
      "Epoch:  345 loss:  0.37301701307296753\n",
      "Epoch:  346 loss:  0.3726775348186493\n",
      "Epoch:  347 loss:  0.37233883142471313\n",
      "Epoch:  348 loss:  0.37200066447257996\n",
      "Epoch:  349 loss:  0.3716634511947632\n",
      "Epoch:  350 loss:  0.37132659554481506\n",
      "Epoch:  351 loss:  0.37099072337150574\n",
      "Epoch:  352 loss:  0.3706553280353546\n",
      "Epoch:  353 loss:  0.37032076716423035\n",
      "Epoch:  354 loss:  0.36998695135116577\n",
      "Epoch:  355 loss:  0.36965352296829224\n",
      "Epoch:  356 loss:  0.36932089924812317\n",
      "Epoch:  357 loss:  0.3689889907836914\n",
      "Epoch:  358 loss:  0.3686576187610626\n",
      "Epoch:  359 loss:  0.3683270215988159\n",
      "Epoch:  360 loss:  0.36799705028533936\n",
      "Epoch:  361 loss:  0.3676677644252777\n",
      "Epoch:  362 loss:  0.3673391342163086\n",
      "Epoch:  363 loss:  0.36701104044914246\n",
      "Epoch:  364 loss:  0.3666837215423584\n",
      "Epoch:  365 loss:  0.3663570284843445\n",
      "Epoch:  366 loss:  0.36603108048439026\n",
      "Epoch:  367 loss:  0.3657057583332062\n",
      "Epoch:  368 loss:  0.36538106203079224\n",
      "Epoch:  369 loss:  0.36505699157714844\n",
      "Epoch:  370 loss:  0.36473339796066284\n",
      "Epoch:  371 loss:  0.36441075801849365\n",
      "Epoch:  372 loss:  0.3640884459018707\n",
      "Epoch:  373 loss:  0.36376693844795227\n",
      "Epoch:  374 loss:  0.3634459972381592\n",
      "Epoch:  375 loss:  0.3631259799003601\n",
      "Epoch:  376 loss:  0.36280617117881775\n",
      "Epoch:  377 loss:  0.3624873757362366\n",
      "Epoch:  378 loss:  0.36216896772384644\n",
      "Epoch:  379 loss:  0.3618512749671936\n",
      "Epoch:  380 loss:  0.3615340292453766\n",
      "Epoch:  381 loss:  0.3612176477909088\n",
      "Epoch:  382 loss:  0.36090174317359924\n",
      "Epoch:  383 loss:  0.36058658361434937\n",
      "Epoch:  384 loss:  0.3602719008922577\n",
      "Epoch:  385 loss:  0.35995787382125854\n",
      "Epoch:  386 loss:  0.3596445918083191\n",
      "Epoch:  387 loss:  0.3593319356441498\n",
      "Epoch:  388 loss:  0.35901981592178345\n",
      "Epoch:  389 loss:  0.3587082028388977\n",
      "Epoch:  390 loss:  0.35839730501174927\n",
      "Epoch:  391 loss:  0.3580869734287262\n",
      "Epoch:  392 loss:  0.35777732729911804\n",
      "Epoch:  393 loss:  0.3574681580066681\n",
      "Epoch:  394 loss:  0.35715970396995544\n",
      "Epoch:  395 loss:  0.356851726770401\n",
      "Epoch:  396 loss:  0.3565444052219391\n",
      "Epoch:  397 loss:  0.3562377095222473\n",
      "Epoch:  398 loss:  0.3559315502643585\n",
      "Epoch:  399 loss:  0.35562610626220703\n",
      "Epoch:  400 loss:  0.3553211987018585\n",
      "Epoch:  401 loss:  0.3550167977809906\n",
      "Epoch:  402 loss:  0.3547131419181824\n",
      "Epoch:  403 loss:  0.3544099032878876\n",
      "Epoch:  404 loss:  0.3541073203086853\n",
      "Epoch:  405 loss:  0.35380539298057556\n",
      "Epoch:  406 loss:  0.35350415110588074\n",
      "Epoch:  407 loss:  0.3532031774520874\n",
      "Epoch:  408 loss:  0.3529028594493866\n",
      "Epoch:  409 loss:  0.3526032269001007\n",
      "Epoch:  410 loss:  0.35230401158332825\n",
      "Epoch:  411 loss:  0.35200560092926025\n",
      "Epoch:  412 loss:  0.35170772671699524\n",
      "Epoch:  413 loss:  0.3514103293418884\n",
      "Epoch:  414 loss:  0.35111358761787415\n",
      "Epoch:  415 loss:  0.3508172929286957\n",
      "Epoch:  416 loss:  0.35052165389060974\n",
      "Epoch:  417 loss:  0.3502265214920044\n",
      "Epoch:  418 loss:  0.34993216395378113\n",
      "Epoch:  419 loss:  0.3496382236480713\n",
      "Epoch:  420 loss:  0.34934452176094055\n",
      "Epoch:  421 loss:  0.3490517735481262\n",
      "Epoch:  422 loss:  0.3487595319747925\n",
      "Epoch:  423 loss:  0.34846779704093933\n",
      "Epoch:  424 loss:  0.3481766879558563\n",
      "Epoch:  425 loss:  0.34788596630096436\n",
      "Epoch:  426 loss:  0.3475959002971649\n",
      "Epoch:  427 loss:  0.34730640053749084\n",
      "Epoch:  428 loss:  0.34701740741729736\n",
      "Epoch:  429 loss:  0.3467288911342621\n",
      "Epoch:  430 loss:  0.34644123911857605\n",
      "Epoch:  431 loss:  0.34615376591682434\n",
      "Epoch:  432 loss:  0.34586700797080994\n",
      "Epoch:  433 loss:  0.3455807864665985\n",
      "Epoch:  434 loss:  0.3452949821949005\n",
      "Epoch:  435 loss:  0.34500980377197266\n",
      "Epoch:  436 loss:  0.3447251617908478\n",
      "Epoch:  437 loss:  0.34444114565849304\n",
      "Epoch:  438 loss:  0.3441576361656189\n",
      "Epoch:  439 loss:  0.34387457370758057\n",
      "Epoch:  440 loss:  0.34359192848205566\n",
      "Epoch:  441 loss:  0.3433099687099457\n",
      "Epoch:  442 loss:  0.34302857518196106\n",
      "Epoch:  443 loss:  0.34274765849113464\n",
      "Epoch:  444 loss:  0.342467337846756\n",
      "Epoch:  445 loss:  0.3421873152256012\n",
      "Epoch:  446 loss:  0.3419080078601837\n",
      "Epoch:  447 loss:  0.341629296541214\n",
      "Epoch:  448 loss:  0.3413509428501129\n",
      "Epoch:  449 loss:  0.34107327461242676\n",
      "Epoch:  450 loss:  0.3407959043979645\n",
      "Epoch:  451 loss:  0.3405191898345947\n",
      "Epoch:  452 loss:  0.3402429521083832\n",
      "Epoch:  453 loss:  0.33996716141700745\n",
      "Epoch:  454 loss:  0.33969202637672424\n",
      "Epoch:  455 loss:  0.33941730856895447\n",
      "Epoch:  456 loss:  0.33914321660995483\n",
      "Epoch:  457 loss:  0.33886948227882385\n",
      "Epoch:  458 loss:  0.3385961949825287\n",
      "Epoch:  459 loss:  0.33832359313964844\n",
      "Epoch:  460 loss:  0.338051438331604\n",
      "Epoch:  461 loss:  0.337779700756073\n",
      "Epoch:  462 loss:  0.33750849962234497\n",
      "Epoch:  463 loss:  0.3372378945350647\n",
      "Epoch:  464 loss:  0.33696770668029785\n",
      "Epoch:  465 loss:  0.3366979956626892\n",
      "Epoch:  466 loss:  0.3364288806915283\n",
      "Epoch:  467 loss:  0.3361601233482361\n",
      "Epoch:  468 loss:  0.3358919620513916\n",
      "Epoch:  469 loss:  0.3356243371963501\n",
      "Epoch:  470 loss:  0.3353572189807892\n",
      "Epoch:  471 loss:  0.3350904583930969\n",
      "Epoch:  472 loss:  0.3348240554332733\n",
      "Epoch:  473 loss:  0.334558367729187\n",
      "Epoch:  474 loss:  0.3342931270599365\n",
      "Epoch:  475 loss:  0.3340282738208771\n",
      "Epoch:  476 loss:  0.33376404643058777\n",
      "Epoch:  477 loss:  0.3335002064704895\n",
      "Epoch:  478 loss:  0.3332369923591614\n",
      "Epoch:  479 loss:  0.33297404646873474\n",
      "Epoch:  480 loss:  0.33271175622940063\n",
      "Epoch:  481 loss:  0.3324498236179352\n",
      "Epoch:  482 loss:  0.3321884274482727\n",
      "Epoch:  483 loss:  0.33192747831344604\n",
      "Epoch:  484 loss:  0.3316669762134552\n",
      "Epoch:  485 loss:  0.33140701055526733\n",
      "Epoch:  486 loss:  0.33114758133888245\n",
      "Epoch:  487 loss:  0.33088839054107666\n",
      "Epoch:  488 loss:  0.3306299149990082\n",
      "Epoch:  489 loss:  0.3303717374801636\n",
      "Epoch:  490 loss:  0.33011406660079956\n",
      "Epoch:  491 loss:  0.32985684275627136\n",
      "Epoch:  492 loss:  0.32960018515586853\n",
      "Epoch:  493 loss:  0.3293439447879791\n",
      "Epoch:  494 loss:  0.3290880620479584\n",
      "Epoch:  495 loss:  0.3288327753543854\n",
      "Epoch:  496 loss:  0.32857781648635864\n",
      "Epoch:  497 loss:  0.32832348346710205\n",
      "Epoch:  498 loss:  0.32806938886642456\n",
      "Epoch:  499 loss:  0.32781583070755005\n",
      "Epoch:  500 loss:  0.32756292819976807\n",
      "Epoch:  501 loss:  0.3273102641105652\n",
      "Epoch:  502 loss:  0.32705795764923096\n",
      "Epoch:  503 loss:  0.32680630683898926\n",
      "Epoch:  504 loss:  0.3265551030635834\n",
      "Epoch:  505 loss:  0.32630419731140137\n",
      "Epoch:  506 loss:  0.3260538876056671\n",
      "Epoch:  507 loss:  0.32580387592315674\n",
      "Epoch:  508 loss:  0.32555443048477173\n",
      "Epoch:  509 loss:  0.32530537247657776\n",
      "Epoch:  510 loss:  0.32505685091018677\n",
      "Epoch:  511 loss:  0.3248085677623749\n",
      "Epoch:  512 loss:  0.3245607614517212\n",
      "Epoch:  513 loss:  0.3243136703968048\n",
      "Epoch:  514 loss:  0.324066698551178\n",
      "Epoch:  515 loss:  0.3238202631473541\n",
      "Epoch:  516 loss:  0.32357436418533325\n",
      "Epoch:  517 loss:  0.3233288526535034\n",
      "Epoch:  518 loss:  0.323083758354187\n",
      "Epoch:  519 loss:  0.32283905148506165\n",
      "Epoch:  520 loss:  0.32259488105773926\n",
      "Epoch:  521 loss:  0.3223511576652527\n",
      "Epoch:  522 loss:  0.3221077024936676\n",
      "Epoch:  523 loss:  0.3218647241592407\n",
      "Epoch:  524 loss:  0.3216220736503601\n",
      "Epoch:  525 loss:  0.321380078792572\n",
      "Epoch:  526 loss:  0.3211383521556854\n",
      "Epoch:  527 loss:  0.3208971321582794\n",
      "Epoch:  528 loss:  0.32065626978874207\n",
      "Epoch:  529 loss:  0.32041579484939575\n",
      "Epoch:  530 loss:  0.32017573714256287\n",
      "Epoch:  531 loss:  0.31993624567985535\n",
      "Epoch:  532 loss:  0.3196970224380493\n",
      "Epoch:  533 loss:  0.31945836544036865\n",
      "Epoch:  534 loss:  0.3192199766635895\n",
      "Epoch:  535 loss:  0.31898215413093567\n",
      "Epoch:  536 loss:  0.3187446892261505\n",
      "Epoch:  537 loss:  0.3185075521469116\n",
      "Epoch:  538 loss:  0.3182709217071533\n",
      "Epoch:  539 loss:  0.31803470849990845\n",
      "Epoch:  540 loss:  0.31779879331588745\n",
      "Epoch:  541 loss:  0.31756341457366943\n",
      "Epoch:  542 loss:  0.31732824444770813\n",
      "Epoch:  543 loss:  0.3170936703681946\n",
      "Epoch:  544 loss:  0.31685948371887207\n",
      "Epoch:  545 loss:  0.3166256844997406\n",
      "Epoch:  546 loss:  0.31639206409454346\n",
      "Epoch:  547 loss:  0.31615912914276123\n",
      "Epoch:  548 loss:  0.31592658162117004\n",
      "Epoch:  549 loss:  0.31569430232048035\n",
      "Epoch:  550 loss:  0.31546249985694885\n",
      "Epoch:  551 loss:  0.3152311146259308\n",
      "Epoch:  552 loss:  0.3150002360343933\n",
      "Epoch:  553 loss:  0.3147693872451782\n",
      "Epoch:  554 loss:  0.3145393431186676\n",
      "Epoch:  555 loss:  0.3143094480037689\n",
      "Epoch:  556 loss:  0.3140798509120941\n",
      "Epoch:  557 loss:  0.31385084986686707\n",
      "Epoch:  558 loss:  0.313622385263443\n",
      "Epoch:  559 loss:  0.31339403986930847\n",
      "Epoch:  560 loss:  0.31316614151000977\n",
      "Epoch:  561 loss:  0.3129386305809021\n",
      "Epoch:  562 loss:  0.31271159648895264\n",
      "Epoch:  563 loss:  0.3124847710132599\n",
      "Epoch:  564 loss:  0.31225842237472534\n",
      "Epoch:  565 loss:  0.31203263998031616\n",
      "Epoch:  566 loss:  0.31180688738822937\n",
      "Epoch:  567 loss:  0.3115817904472351\n",
      "Epoch:  568 loss:  0.3113571107387543\n",
      "Epoch:  569 loss:  0.31113263964653015\n",
      "Epoch:  570 loss:  0.31090855598449707\n",
      "Epoch:  571 loss:  0.31068485975265503\n",
      "Epoch:  572 loss:  0.31046169996261597\n",
      "Epoch:  573 loss:  0.3102388083934784\n",
      "Epoch:  574 loss:  0.3100162446498871\n",
      "Epoch:  575 loss:  0.3097940683364868\n",
      "Epoch:  576 loss:  0.30957233905792236\n",
      "Epoch:  577 loss:  0.3093509078025818\n",
      "Epoch:  578 loss:  0.30912983417510986\n",
      "Epoch:  579 loss:  0.3089092969894409\n",
      "Epoch:  580 loss:  0.30868878960609436\n",
      "Epoch:  581 loss:  0.30846890807151794\n",
      "Epoch:  582 loss:  0.3082493841648102\n",
      "Epoch:  583 loss:  0.30803030729293823\n",
      "Epoch:  584 loss:  0.307811439037323\n",
      "Epoch:  585 loss:  0.3075929582118988\n",
      "Epoch:  586 loss:  0.30737483501434326\n",
      "Epoch:  587 loss:  0.3071572780609131\n",
      "Epoch:  588 loss:  0.30693987011909485\n",
      "Epoch:  589 loss:  0.30672281980514526\n",
      "Epoch:  590 loss:  0.3065062463283539\n",
      "Epoch:  591 loss:  0.3062899708747864\n",
      "Epoch:  592 loss:  0.3060741126537323\n",
      "Epoch:  593 loss:  0.3058584928512573\n",
      "Epoch:  594 loss:  0.3056434690952301\n",
      "Epoch:  595 loss:  0.30542853474617004\n",
      "Epoch:  596 loss:  0.3052141070365906\n",
      "Epoch:  597 loss:  0.3050000071525574\n",
      "Epoch:  598 loss:  0.30478623509407043\n",
      "Epoch:  599 loss:  0.30457282066345215\n",
      "Epoch:  600 loss:  0.3043598234653473\n",
      "Epoch:  601 loss:  0.30414700508117676\n",
      "Epoch:  602 loss:  0.3039347231388092\n",
      "Epoch:  603 loss:  0.30372267961502075\n",
      "Epoch:  604 loss:  0.30351096391677856\n",
      "Epoch:  605 loss:  0.3032997250556946\n",
      "Epoch:  606 loss:  0.30308881402015686\n",
      "Epoch:  607 loss:  0.30287817120552063\n",
      "Epoch:  608 loss:  0.30266791582107544\n",
      "Epoch:  609 loss:  0.3024579882621765\n",
      "Epoch:  610 loss:  0.30224838852882385\n",
      "Epoch:  611 loss:  0.30203914642333984\n",
      "Epoch:  612 loss:  0.3018304109573364\n",
      "Epoch:  613 loss:  0.3016217350959778\n",
      "Epoch:  614 loss:  0.30141350626945496\n",
      "Epoch:  615 loss:  0.30120572447776794\n",
      "Epoch:  616 loss:  0.30099812150001526\n",
      "Epoch:  617 loss:  0.3007909655570984\n",
      "Epoch:  618 loss:  0.3005840480327606\n",
      "Epoch:  619 loss:  0.30037760734558105\n",
      "Epoch:  620 loss:  0.3001714050769806\n",
      "Epoch:  621 loss:  0.29996567964553833\n",
      "Epoch:  622 loss:  0.2997600734233856\n",
      "Epoch:  623 loss:  0.2995549440383911\n",
      "Epoch:  624 loss:  0.29935014247894287\n",
      "Epoch:  625 loss:  0.2991456091403961\n",
      "Epoch:  626 loss:  0.2989415228366852\n",
      "Epoch:  627 loss:  0.2987375557422638\n",
      "Epoch:  628 loss:  0.2985341250896454\n",
      "Epoch:  629 loss:  0.2983308434486389\n",
      "Epoch:  630 loss:  0.2981281280517578\n",
      "Epoch:  631 loss:  0.29792556166648865\n",
      "Epoch:  632 loss:  0.29772329330444336\n",
      "Epoch:  633 loss:  0.2975216209888458\n",
      "Epoch:  634 loss:  0.2973199784755707\n",
      "Epoch:  635 loss:  0.29711878299713135\n",
      "Epoch:  636 loss:  0.29691779613494873\n",
      "Epoch:  637 loss:  0.2967173159122467\n",
      "Epoch:  638 loss:  0.29651692509651184\n",
      "Epoch:  639 loss:  0.29631707072257996\n",
      "Epoch:  640 loss:  0.2961174547672272\n",
      "Epoch:  641 loss:  0.29591816663742065\n",
      "Epoch:  642 loss:  0.295719176530838\n",
      "Epoch:  643 loss:  0.29552048444747925\n",
      "Epoch:  644 loss:  0.2953222692012787\n",
      "Epoch:  645 loss:  0.29512423276901245\n",
      "Epoch:  646 loss:  0.2949264645576477\n",
      "Epoch:  647 loss:  0.2947291433811188\n",
      "Epoch:  648 loss:  0.2945319414138794\n",
      "Epoch:  649 loss:  0.2943353056907654\n",
      "Epoch:  650 loss:  0.2941388785839081\n",
      "Epoch:  651 loss:  0.29394274950027466\n",
      "Epoch:  652 loss:  0.2937467694282532\n",
      "Epoch:  653 loss:  0.29355135560035706\n",
      "Epoch:  654 loss:  0.2933562397956848\n",
      "Epoch:  655 loss:  0.29316121339797974\n",
      "Epoch:  656 loss:  0.29296666383743286\n",
      "Epoch:  657 loss:  0.29277244210243225\n",
      "Epoch:  658 loss:  0.2925785481929779\n",
      "Epoch:  659 loss:  0.29238489270210266\n",
      "Epoch:  660 loss:  0.2921915352344513\n",
      "Epoch:  661 loss:  0.2919985055923462\n",
      "Epoch:  662 loss:  0.2918056845664978\n",
      "Epoch:  663 loss:  0.29161331057548523\n",
      "Epoch:  664 loss:  0.29142123460769653\n",
      "Epoch:  665 loss:  0.29122936725616455\n",
      "Epoch:  666 loss:  0.29103782773017883\n",
      "Epoch:  667 loss:  0.2908465266227722\n",
      "Epoch:  668 loss:  0.29065561294555664\n",
      "Epoch:  669 loss:  0.2904650866985321\n",
      "Epoch:  670 loss:  0.2902747392654419\n",
      "Epoch:  671 loss:  0.29008468985557556\n",
      "Epoch:  672 loss:  0.2898949682712555\n",
      "Epoch:  673 loss:  0.2897055447101593\n",
      "Epoch:  674 loss:  0.2895164489746094\n",
      "Epoch:  675 loss:  0.28932759165763855\n",
      "Epoch:  676 loss:  0.2891390323638916\n",
      "Epoch:  677 loss:  0.2889508008956909\n",
      "Epoch:  678 loss:  0.28876280784606934\n",
      "Epoch:  679 loss:  0.28857529163360596\n",
      "Epoch:  680 loss:  0.28838789463043213\n",
      "Epoch:  681 loss:  0.28820082545280457\n",
      "Epoch:  682 loss:  0.28801408410072327\n",
      "Epoch:  683 loss:  0.2878275215625763\n",
      "Epoch:  684 loss:  0.2876412570476532\n",
      "Epoch:  685 loss:  0.28745532035827637\n",
      "Epoch:  686 loss:  0.2872697114944458\n",
      "Epoch:  687 loss:  0.2870844006538391\n",
      "Epoch:  688 loss:  0.2868994176387787\n",
      "Epoch:  689 loss:  0.2867145836353302\n",
      "Epoch:  690 loss:  0.28653013706207275\n",
      "Epoch:  691 loss:  0.2863459587097168\n",
      "Epoch:  692 loss:  0.2861620783805847\n",
      "Epoch:  693 loss:  0.2859783470630646\n",
      "Epoch:  694 loss:  0.28579509258270264\n",
      "Epoch:  695 loss:  0.28561195731163025\n",
      "Epoch:  696 loss:  0.2854292392730713\n",
      "Epoch:  697 loss:  0.2852466106414795\n",
      "Epoch:  698 loss:  0.2850643992424011\n",
      "Epoch:  699 loss:  0.28488248586654663\n",
      "Epoch:  700 loss:  0.28470078110694885\n",
      "Epoch:  701 loss:  0.2845195233821869\n",
      "Epoch:  702 loss:  0.2843382656574249\n",
      "Epoch:  703 loss:  0.28415757417678833\n",
      "Epoch:  704 loss:  0.28397688269615173\n",
      "Epoch:  705 loss:  0.28379666805267334\n",
      "Epoch:  706 loss:  0.28361666202545166\n",
      "Epoch:  707 loss:  0.2834371328353882\n",
      "Epoch:  708 loss:  0.2832576036453247\n",
      "Epoch:  709 loss:  0.2830783426761627\n",
      "Epoch:  710 loss:  0.2828994691371918\n",
      "Epoch:  711 loss:  0.2827208340167999\n",
      "Epoch:  712 loss:  0.28254246711730957\n",
      "Epoch:  713 loss:  0.2823644280433655\n",
      "Epoch:  714 loss:  0.2821866273880005\n",
      "Epoch:  715 loss:  0.282009094953537\n",
      "Epoch:  716 loss:  0.2818317115306854\n",
      "Epoch:  717 loss:  0.2816547453403473\n",
      "Epoch:  718 loss:  0.2814781069755554\n",
      "Epoch:  719 loss:  0.2813015580177307\n",
      "Epoch:  720 loss:  0.28112536668777466\n",
      "Epoch:  721 loss:  0.2809494733810425\n",
      "Epoch:  722 loss:  0.2807738482952118\n",
      "Epoch:  723 loss:  0.28059837222099304\n",
      "Epoch:  724 loss:  0.28042319416999817\n",
      "Epoch:  725 loss:  0.2802482843399048\n",
      "Epoch:  726 loss:  0.2800738215446472\n",
      "Epoch:  727 loss:  0.2798994481563568\n",
      "Epoch:  728 loss:  0.27972525358200073\n",
      "Epoch:  729 loss:  0.2795513868331909\n",
      "Epoch:  730 loss:  0.27937790751457214\n",
      "Epoch:  731 loss:  0.2792046070098877\n",
      "Epoch:  732 loss:  0.27903154492378235\n",
      "Epoch:  733 loss:  0.2788587808609009\n",
      "Epoch:  734 loss:  0.2786862850189209\n",
      "Epoch:  735 loss:  0.27851396799087524\n",
      "Epoch:  736 loss:  0.2783419191837311\n",
      "Epoch:  737 loss:  0.2781701982021332\n",
      "Epoch:  738 loss:  0.27799874544143677\n",
      "Epoch:  739 loss:  0.27782756090164185\n",
      "Epoch:  740 loss:  0.2776564061641693\n",
      "Epoch:  741 loss:  0.27748575806617737\n",
      "Epoch:  742 loss:  0.27731525897979736\n",
      "Epoch:  743 loss:  0.27714502811431885\n",
      "Epoch:  744 loss:  0.27697500586509705\n",
      "Epoch:  745 loss:  0.27680543065071106\n",
      "Epoch:  746 loss:  0.2766358554363251\n",
      "Epoch:  747 loss:  0.2764667272567749\n",
      "Epoch:  748 loss:  0.2762976884841919\n",
      "Epoch:  749 loss:  0.27612894773483276\n",
      "Epoch:  750 loss:  0.27596041560173035\n",
      "Epoch:  751 loss:  0.2757921814918518\n",
      "Epoch:  752 loss:  0.27562424540519714\n",
      "Epoch:  753 loss:  0.2754565477371216\n",
      "Epoch:  754 loss:  0.2752890884876251\n",
      "Epoch:  755 loss:  0.27512192726135254\n",
      "Epoch:  756 loss:  0.27495479583740234\n",
      "Epoch:  757 loss:  0.2747882008552551\n",
      "Epoch:  758 loss:  0.2746216654777527\n",
      "Epoch:  759 loss:  0.2744555175304413\n",
      "Epoch:  760 loss:  0.2742895185947418\n",
      "Epoch:  761 loss:  0.27412375807762146\n",
      "Epoch:  762 loss:  0.2739582359790802\n",
      "Epoch:  763 loss:  0.27379295229911804\n",
      "Epoch:  764 loss:  0.27362796664237976\n",
      "Epoch:  765 loss:  0.2734631597995758\n",
      "Epoch:  766 loss:  0.2732985019683838\n",
      "Epoch:  767 loss:  0.2731342613697052\n",
      "Epoch:  768 loss:  0.2729702591896057\n",
      "Epoch:  769 loss:  0.27280640602111816\n",
      "Epoch:  770 loss:  0.2726428508758545\n",
      "Epoch:  771 loss:  0.27247947454452515\n",
      "Epoch:  772 loss:  0.27231642603874207\n",
      "Epoch:  773 loss:  0.2721535265445709\n",
      "Epoch:  774 loss:  0.2719910144805908\n",
      "Epoch:  775 loss:  0.2718285620212555\n",
      "Epoch:  776 loss:  0.2716663181781769\n",
      "Epoch:  777 loss:  0.27150437235832214\n",
      "Epoch:  778 loss:  0.2713427245616913\n",
      "Epoch:  779 loss:  0.27118119597435\n",
      "Epoch:  780 loss:  0.2710200548171997\n",
      "Epoch:  781 loss:  0.270859032869339\n",
      "Epoch:  782 loss:  0.2706984281539917\n",
      "Epoch:  783 loss:  0.27053773403167725\n",
      "Epoch:  784 loss:  0.2703774869441986\n",
      "Epoch:  785 loss:  0.2702174484729767\n",
      "Epoch:  786 loss:  0.27005764842033386\n",
      "Epoch:  787 loss:  0.269897997379303\n",
      "Epoch:  788 loss:  0.2697387635707855\n",
      "Epoch:  789 loss:  0.2695794999599457\n",
      "Epoch:  790 loss:  0.2694207429885864\n",
      "Epoch:  791 loss:  0.2692621052265167\n",
      "Epoch:  792 loss:  0.2691034972667694\n",
      "Epoch:  793 loss:  0.2689453959465027\n",
      "Epoch:  794 loss:  0.2687874138355255\n",
      "Epoch:  795 loss:  0.2686295211315155\n",
      "Epoch:  796 loss:  0.26847195625305176\n",
      "Epoch:  797 loss:  0.26831474900245667\n",
      "Epoch:  798 loss:  0.26815763115882874\n",
      "Epoch:  799 loss:  0.2680007219314575\n",
      "Epoch:  800 loss:  0.26784422993659973\n",
      "Epoch:  801 loss:  0.26768773794174194\n",
      "Epoch:  802 loss:  0.2675314247608185\n",
      "Epoch:  803 loss:  0.26737555861473083\n",
      "Epoch:  804 loss:  0.26721975207328796\n",
      "Epoch:  805 loss:  0.2670643627643585\n",
      "Epoch:  806 loss:  0.2669088840484619\n",
      "Epoch:  807 loss:  0.26675379276275635\n",
      "Epoch:  808 loss:  0.26659896969795227\n",
      "Epoch:  809 loss:  0.26644423604011536\n",
      "Epoch:  810 loss:  0.2662898600101471\n",
      "Epoch:  811 loss:  0.26613563299179077\n",
      "Epoch:  812 loss:  0.2659817039966583\n",
      "Epoch:  813 loss:  0.26582789421081543\n",
      "Epoch:  814 loss:  0.2656743824481964\n",
      "Epoch:  815 loss:  0.2655211091041565\n",
      "Epoch:  816 loss:  0.26536786556243896\n",
      "Epoch:  817 loss:  0.26521503925323486\n",
      "Epoch:  818 loss:  0.2650623619556427\n",
      "Epoch:  819 loss:  0.2649098336696625\n",
      "Epoch:  820 loss:  0.2647576630115509\n",
      "Epoch:  821 loss:  0.2646056115627289\n",
      "Epoch:  822 loss:  0.26445379853248596\n",
      "Epoch:  823 loss:  0.26430222392082214\n",
      "Epoch:  824 loss:  0.2641507387161255\n",
      "Epoch:  825 loss:  0.2639995217323303\n",
      "Epoch:  826 loss:  0.26384860277175903\n",
      "Epoch:  827 loss:  0.2636978328227997\n",
      "Epoch:  828 loss:  0.2635473310947418\n",
      "Epoch:  829 loss:  0.2633969187736511\n",
      "Epoch:  830 loss:  0.2632467746734619\n",
      "Epoch:  831 loss:  0.2630968391895294\n",
      "Epoch:  832 loss:  0.2629471719264984\n",
      "Epoch:  833 loss:  0.26279768347740173\n",
      "Epoch:  834 loss:  0.262648344039917\n",
      "Epoch:  835 loss:  0.26249927282333374\n",
      "Epoch:  836 loss:  0.262350469827652\n",
      "Epoch:  837 loss:  0.2622016966342926\n",
      "Epoch:  838 loss:  0.26205331087112427\n",
      "Epoch:  839 loss:  0.2619050443172455\n",
      "Epoch:  840 loss:  0.26175692677497864\n",
      "Epoch:  841 loss:  0.2616092562675476\n",
      "Epoch:  842 loss:  0.261461466550827\n",
      "Epoch:  843 loss:  0.26131412386894226\n",
      "Epoch:  844 loss:  0.2611668109893799\n",
      "Epoch:  845 loss:  0.2610197365283966\n",
      "Epoch:  846 loss:  0.2608729302883148\n",
      "Epoch:  847 loss:  0.26072633266448975\n",
      "Epoch:  848 loss:  0.2605798840522766\n",
      "Epoch:  849 loss:  0.26043370366096497\n",
      "Epoch:  850 loss:  0.26028767228126526\n",
      "Epoch:  851 loss:  0.26014187932014465\n",
      "Epoch:  852 loss:  0.25999629497528076\n",
      "Epoch:  853 loss:  0.2598508596420288\n",
      "Epoch:  854 loss:  0.25970563292503357\n",
      "Epoch:  855 loss:  0.25956055521965027\n",
      "Epoch:  856 loss:  0.259415864944458\n",
      "Epoch:  857 loss:  0.25927117466926575\n",
      "Epoch:  858 loss:  0.25912678241729736\n",
      "Epoch:  859 loss:  0.25898265838623047\n",
      "Epoch:  860 loss:  0.25883862376213074\n",
      "Epoch:  861 loss:  0.25869467854499817\n",
      "Epoch:  862 loss:  0.2585512101650238\n",
      "Epoch:  863 loss:  0.2584076225757599\n",
      "Epoch:  864 loss:  0.2582644522190094\n",
      "Epoch:  865 loss:  0.2581216096878052\n",
      "Epoch:  866 loss:  0.2579786479473114\n",
      "Epoch:  867 loss:  0.25783607363700867\n",
      "Epoch:  868 loss:  0.2576936185359955\n",
      "Epoch:  869 loss:  0.25755128264427185\n",
      "Epoch:  870 loss:  0.25740915536880493\n",
      "Epoch:  871 loss:  0.2572673559188843\n",
      "Epoch:  872 loss:  0.2571256160736084\n",
      "Epoch:  873 loss:  0.2569841146469116\n",
      "Epoch:  874 loss:  0.25684285163879395\n",
      "Epoch:  875 loss:  0.2567017674446106\n",
      "Epoch:  876 loss:  0.2565608620643616\n",
      "Epoch:  877 loss:  0.2564201056957245\n",
      "Epoch:  878 loss:  0.2562795877456665\n",
      "Epoch:  879 loss:  0.2561393976211548\n",
      "Epoch:  880 loss:  0.2559991180896759\n",
      "Epoch:  881 loss:  0.2558591961860657\n",
      "Epoch:  882 loss:  0.2557193636894226\n",
      "Epoch:  883 loss:  0.2555798590183258\n",
      "Epoch:  884 loss:  0.25544044375419617\n",
      "Epoch:  885 loss:  0.25530126690864563\n",
      "Epoch:  886 loss:  0.25516214966773987\n",
      "Epoch:  887 loss:  0.25502339005470276\n",
      "Epoch:  888 loss:  0.2548847496509552\n",
      "Epoch:  889 loss:  0.25474637746810913\n",
      "Epoch:  890 loss:  0.25460806488990784\n",
      "Epoch:  891 loss:  0.25446996092796326\n",
      "Epoch:  892 loss:  0.2543320953845978\n",
      "Epoch:  893 loss:  0.254194438457489\n",
      "Epoch:  894 loss:  0.2540569603443146\n",
      "Epoch:  895 loss:  0.2539195120334625\n",
      "Epoch:  896 loss:  0.2537822723388672\n",
      "Epoch:  897 loss:  0.2536453306674957\n",
      "Epoch:  898 loss:  0.25350847840309143\n",
      "Epoch:  899 loss:  0.253371924161911\n",
      "Epoch:  900 loss:  0.2532356381416321\n",
      "Epoch:  901 loss:  0.25309932231903076\n",
      "Epoch:  902 loss:  0.25296324491500854\n",
      "Epoch:  903 loss:  0.25282734632492065\n",
      "Epoch:  904 loss:  0.2526916265487671\n",
      "Epoch:  905 loss:  0.2525561451911926\n",
      "Epoch:  906 loss:  0.2524207830429077\n",
      "Epoch:  907 loss:  0.2522857189178467\n",
      "Epoch:  908 loss:  0.25215065479278564\n",
      "Epoch:  909 loss:  0.2520157992839813\n",
      "Epoch:  910 loss:  0.2518812417984009\n",
      "Epoch:  911 loss:  0.2517468333244324\n",
      "Epoch:  912 loss:  0.25161245465278625\n",
      "Epoch:  913 loss:  0.25147849321365356\n",
      "Epoch:  914 loss:  0.25134459137916565\n",
      "Epoch:  915 loss:  0.2512108087539673\n",
      "Epoch:  916 loss:  0.251077264547348\n",
      "Epoch:  917 loss:  0.2509438693523407\n",
      "Epoch:  918 loss:  0.2508107125759125\n",
      "Epoch:  919 loss:  0.25067758560180664\n",
      "Epoch:  920 loss:  0.25054478645324707\n",
      "Epoch:  921 loss:  0.25041207671165466\n",
      "Epoch:  922 loss:  0.25027960538864136\n",
      "Epoch:  923 loss:  0.2501472532749176\n",
      "Epoch:  924 loss:  0.25001513957977295\n",
      "Epoch:  925 loss:  0.24988305568695068\n",
      "Epoch:  926 loss:  0.2497512847185135\n",
      "Epoch:  927 loss:  0.24961963295936584\n",
      "Epoch:  928 loss:  0.2494882047176361\n",
      "Epoch:  929 loss:  0.24935680627822876\n",
      "Epoch:  930 loss:  0.24922579526901245\n",
      "Epoch:  931 loss:  0.24909478425979614\n",
      "Epoch:  932 loss:  0.2489641159772873\n",
      "Epoch:  933 loss:  0.24883340299129486\n",
      "Epoch:  934 loss:  0.24870304763317108\n",
      "Epoch:  935 loss:  0.2485726922750473\n",
      "Epoch:  936 loss:  0.2484426498413086\n",
      "Epoch:  937 loss:  0.24831272661685944\n",
      "Epoch:  938 loss:  0.24818304181098938\n",
      "Epoch:  939 loss:  0.2480534315109253\n",
      "Epoch:  940 loss:  0.24792389571666718\n",
      "Epoch:  941 loss:  0.24779477715492249\n",
      "Epoch:  942 loss:  0.247665673494339\n",
      "Epoch:  943 loss:  0.2475368082523346\n",
      "Epoch:  944 loss:  0.24740803241729736\n",
      "Epoch:  945 loss:  0.24727952480316162\n",
      "Epoch:  946 loss:  0.24715104699134827\n",
      "Epoch:  947 loss:  0.2470228224992752\n",
      "Epoch:  948 loss:  0.2468947470188141\n",
      "Epoch:  949 loss:  0.24676668643951416\n",
      "Epoch:  950 loss:  0.2466389238834381\n",
      "Epoch:  951 loss:  0.24651141464710236\n",
      "Epoch:  952 loss:  0.24638396501541138\n",
      "Epoch:  953 loss:  0.2462567687034607\n",
      "Epoch:  954 loss:  0.2461295872926712\n",
      "Epoch:  955 loss:  0.2460028976202011\n",
      "Epoch:  956 loss:  0.24587596952915192\n",
      "Epoch:  957 loss:  0.2457493543624878\n",
      "Epoch:  958 loss:  0.245622918009758\n",
      "Epoch:  959 loss:  0.24549655616283417\n",
      "Epoch:  960 loss:  0.2453705072402954\n",
      "Epoch:  961 loss:  0.2452445924282074\n",
      "Epoch:  962 loss:  0.2451186329126358\n",
      "Epoch:  963 loss:  0.24499312043190002\n",
      "Epoch:  964 loss:  0.24486762285232544\n",
      "Epoch:  965 loss:  0.24474243819713593\n",
      "Epoch:  966 loss:  0.24461716413497925\n",
      "Epoch:  967 loss:  0.24449220299720764\n",
      "Epoch:  968 loss:  0.24436748027801514\n",
      "Epoch:  969 loss:  0.24424271285533905\n",
      "Epoch:  970 loss:  0.24411827325820923\n",
      "Epoch:  971 loss:  0.243993878364563\n",
      "Epoch:  972 loss:  0.24386972188949585\n",
      "Epoch:  973 loss:  0.2437455803155899\n",
      "Epoch:  974 loss:  0.24362178146839142\n",
      "Epoch:  975 loss:  0.2434980422258377\n",
      "Epoch:  976 loss:  0.24337436258792877\n",
      "Epoch:  977 loss:  0.2432509958744049\n",
      "Epoch:  978 loss:  0.24312777817249298\n",
      "Epoch:  979 loss:  0.24300475418567657\n",
      "Epoch:  980 loss:  0.24288173019886017\n",
      "Epoch:  981 loss:  0.24275897443294525\n",
      "Epoch:  982 loss:  0.2426363229751587\n",
      "Epoch:  983 loss:  0.24251395463943481\n",
      "Epoch:  984 loss:  0.24239163100719452\n",
      "Epoch:  985 loss:  0.24226944148540497\n",
      "Epoch:  986 loss:  0.24214737117290497\n",
      "Epoch:  987 loss:  0.24202555418014526\n",
      "Epoch:  988 loss:  0.24190382659435272\n",
      "Epoch:  989 loss:  0.2417823076248169\n",
      "Epoch:  990 loss:  0.24166086316108704\n",
      "Epoch:  991 loss:  0.24153968691825867\n",
      "Epoch:  992 loss:  0.24141857028007507\n",
      "Epoch:  993 loss:  0.2412976324558258\n",
      "Epoch:  994 loss:  0.24117685854434967\n",
      "Epoch:  995 loss:  0.24105624854564667\n",
      "Epoch:  996 loss:  0.24093560874462128\n",
      "Epoch:  997 loss:  0.2408154159784317\n",
      "Epoch:  998 loss:  0.24069511890411377\n",
      "Epoch:  999 loss:  0.24057510495185852\n"
     ]
    }
   ],
   "source": [
    "# let's train on 1000 epochs\n",
    "epochs = 1000\n",
    "losses = []\n",
    "for i in range(epochs):\n",
    "    #get the predictions\n",
    "    y_pred = perceptron.forward(x_data)\n",
    "    \n",
    "    # calculate the loss\n",
    "    loss = criterion(y_pred, y_data)\n",
    "    print('Epoch: ', i, 'loss: ', loss.item())\n",
    "    \n",
    "    # set the gradient to zeros\n",
    "    optimizer.zero_grad()\n",
    "    # accumulate loss at each epoch\n",
    "    losses.append(loss)\n",
    "    # the backpropagation step: calculate the gradient\n",
    "    loss.backward()\n",
    "    # Update the parameters\n",
    "    optimizer.step()"
   ]
  },
  {
   "cell_type": "code",
   "execution_count": 52,
   "metadata": {
    "collapsed": false
   },
   "outputs": [
    {
     "data": {
      "image/png": "[encoded data removed]",
      "text/plain": [
       "<matplotlib.figure.Figure at 0x1a1adb6898>"
      ]
     },
     "metadata": {},
     "output_type": "display_data"
    }
   ],
   "source": [
    "# learning curves\n",
    "plt.plot(range(epochs), losses)\n",
    "plt.ylabel('Loss')\n",
    "plt.xlabel('epoch')\n",
    "plt.title('Learning curve')\n",
    "plt.show()"
   ]
  },
  {
   "cell_type": "code",
   "execution_count": 53,
   "metadata": {
    "collapsed": false
   },
   "outputs": [
    {
     "data": {
      "image/png": "[encoded data removed]",
      "text/plain": [
       "<matplotlib.figure.Figure at 0x1a1af92f60>"
      ]
     },
     "metadata": {},
     "output_type": "display_data"
    }
   ],
   "source": [
    "# fit the model\n",
    "plot_fit('Trained model')\n",
    "plt.show()"
   ]
  },
  {
   "cell_type": "markdown",
   "metadata": {},
   "source": [
    "### Predictions"
   ]
  },
  {
   "cell_type": "markdown",
   "metadata": {},
   "source": [
    "Let's make some prediction on the trained model."
   ]
  },
  {
   "cell_type": "code",
   "execution_count": 54,
   "metadata": {
    "collapsed": false
   },
   "outputs": [
    {
     "name": "stdout",
     "output_type": "stream",
     "text": [
      "Red point positive probability = 0.9535700082778931\n",
      "Red point in class 1\n",
      "Black point negative probability = 0.04226703196763992\n",
      "Black point in class 0\n"
     ]
    },
    {
     "data": {
      "image/png": "[encoded data removed]",
      "text/plain": [
       "<matplotlib.figure.Figure at 0x1a1b0c7390>"
      ]
     },
     "metadata": {},
     "output_type": "display_data"
    }
   ],
   "source": [
    "point1 = torch.Tensor([1.0, -1.0])\n",
    "point2 = torch.Tensor([-1.0, 1.0])\n",
    "plt.plot(point1.numpy()[0], point1.numpy()[1], 'ro')\n",
    "plt.plot(point2.numpy()[0], point2.numpy()[1], 'ko')\n",
    "print(\"Red point positive probability = {}\".format(perceptron.forward(point1).item()))\n",
    "print(f\"Red point in class {perceptron.predict(point1)}\")\n",
    "print(\"Black point negative probability = {}\".format(perceptron.forward(point2).item()))\n",
    "print(f\"Black point in class {perceptron.predict(point2)}\")\n",
    "\n",
    "plot_fit('Trained model')\n",
    "plt.show()"
   ]
  },
  {
   "cell_type": "markdown",
   "metadata": {},
   "source": [
    "## Deep Neural Network"
   ]
  },
  {
   "cell_type": "markdown",
   "metadata": {},
   "source": [
    "In this second part, we will predict housing price using a modified a modified [Kaggle dataset](https://www.kaggle.com/c/house-prices-advanced-regression-techniques). The dataset is already clean. Variables have been scaled and the target variable has been transformed to its log value"
   ]
  },
  {
   "cell_type": "code",
   "execution_count": 55,
   "metadata": {
    "collapsed": true
   },
   "outputs": [],
   "source": [
    "# useful library\n",
    "import pandas as pd\n",
    "from torch.autograd import Variable\n",
    "from torch.utils.data import Dataset, DataLoader\n",
    "import torch.nn as nn"
   ]
  },
  {
   "cell_type": "markdown",
   "metadata": {},
   "source": [
    "### The dataset"
   ]
  },
  {
   "cell_type": "code",
   "execution_count": 56,
   "metadata": {
    "collapsed": false
   },
   "outputs": [],
   "source": [
    "training_data = pd.read_csv('data/train_housing_data.csv')"
   ]
  },
  {
   "cell_type": "code",
   "execution_count": 57,
   "metadata": {
    "collapsed": false
   },
   "outputs": [
    {
     "data": {
      "text/html": [
       "<div>\n",
       "<style>\n",
       "    .dataframe thead tr:only-child th {\n",
       "        text-align: right;\n",
       "    }\n",
       "\n",
       "    .dataframe thead th {\n",
       "        text-align: left;\n",
       "    }\n",
       "\n",
       "    .dataframe tbody tr th {\n",
       "        vertical-align: top;\n",
       "    }\n",
       "</style>\n",
       "<table border=\"1\" class=\"dataframe\">\n",
       "  <thead>\n",
       "    <tr style=\"text-align: right;\">\n",
       "      <th></th>\n",
       "      <th>MSSubClass</th>\n",
       "      <th>MSZoning</th>\n",
       "      <th>Neighborhood</th>\n",
       "      <th>OverallQual</th>\n",
       "      <th>OverallCond</th>\n",
       "      <th>YearRemodAdd</th>\n",
       "      <th>RoofStyle</th>\n",
       "      <th>MasVnrType</th>\n",
       "      <th>BsmtQual</th>\n",
       "      <th>BsmtExposure</th>\n",
       "      <th>...</th>\n",
       "      <th>BsmtFullBath</th>\n",
       "      <th>KitchenQual</th>\n",
       "      <th>Fireplaces</th>\n",
       "      <th>FireplaceQu</th>\n",
       "      <th>GarageType</th>\n",
       "      <th>GarageFinish</th>\n",
       "      <th>GarageCars</th>\n",
       "      <th>PavedDrive</th>\n",
       "      <th>LotFrontage</th>\n",
       "      <th>Sale_Price</th>\n",
       "    </tr>\n",
       "  </thead>\n",
       "  <tbody>\n",
       "    <tr>\n",
       "      <th>count</th>\n",
       "      <td>1314.000000</td>\n",
       "      <td>1314.000000</td>\n",
       "      <td>1314.000000</td>\n",
       "      <td>1314.000000</td>\n",
       "      <td>1314.000000</td>\n",
       "      <td>1314.000000</td>\n",
       "      <td>1314.000000</td>\n",
       "      <td>1314.000000</td>\n",
       "      <td>1314.000000</td>\n",
       "      <td>1314.000000</td>\n",
       "      <td>...</td>\n",
       "      <td>1314.000000</td>\n",
       "      <td>1314.000000</td>\n",
       "      <td>1314.000000</td>\n",
       "      <td>1314.000000</td>\n",
       "      <td>1314.000000</td>\n",
       "      <td>1314.000000</td>\n",
       "      <td>1314.000000</td>\n",
       "      <td>1314.000000</td>\n",
       "      <td>1314.000000</td>\n",
       "      <td>1314.000000</td>\n",
       "    </tr>\n",
       "    <tr>\n",
       "      <th>mean</th>\n",
       "      <td>0.217410</td>\n",
       "      <td>0.676750</td>\n",
       "      <td>0.491975</td>\n",
       "      <td>0.567309</td>\n",
       "      <td>0.573725</td>\n",
       "      <td>0.393954</td>\n",
       "      <td>0.210807</td>\n",
       "      <td>0.294774</td>\n",
       "      <td>0.627093</td>\n",
       "      <td>0.407154</td>\n",
       "      <td>...</td>\n",
       "      <td>0.140284</td>\n",
       "      <td>0.502537</td>\n",
       "      <td>0.205226</td>\n",
       "      <td>0.455708</td>\n",
       "      <td>0.653881</td>\n",
       "      <td>0.572045</td>\n",
       "      <td>0.440830</td>\n",
       "      <td>0.923516</td>\n",
       "      <td>0.417167</td>\n",
       "      <td>12.024081</td>\n",
       "    </tr>\n",
       "    <tr>\n",
       "      <th>std</th>\n",
       "      <td>0.248341</td>\n",
       "      <td>0.199509</td>\n",
       "      <td>0.271023</td>\n",
       "      <td>0.154306</td>\n",
       "      <td>0.140292</td>\n",
       "      <td>0.338925</td>\n",
       "      <td>0.400501</td>\n",
       "      <td>0.372583</td>\n",
       "      <td>0.195436</td>\n",
       "      <td>0.266208</td>\n",
       "      <td>...</td>\n",
       "      <td>0.172657</td>\n",
       "      <td>0.222387</td>\n",
       "      <td>0.216310</td>\n",
       "      <td>0.271750</td>\n",
       "      <td>0.251886</td>\n",
       "      <td>0.297676</td>\n",
       "      <td>0.186588</td>\n",
       "      <td>0.256764</td>\n",
       "      <td>0.119700</td>\n",
       "      <td>0.402589</td>\n",
       "    </tr>\n",
       "    <tr>\n",
       "      <th>min</th>\n",
       "      <td>0.000000</td>\n",
       "      <td>0.000000</td>\n",
       "      <td>0.000000</td>\n",
       "      <td>0.000000</td>\n",
       "      <td>0.000000</td>\n",
       "      <td>0.000000</td>\n",
       "      <td>0.000000</td>\n",
       "      <td>0.000000</td>\n",
       "      <td>0.000000</td>\n",
       "      <td>0.000000</td>\n",
       "      <td>...</td>\n",
       "      <td>0.000000</td>\n",
       "      <td>0.000000</td>\n",
       "      <td>0.000000</td>\n",
       "      <td>0.000000</td>\n",
       "      <td>0.000000</td>\n",
       "      <td>0.000000</td>\n",
       "      <td>0.000000</td>\n",
       "      <td>0.000000</td>\n",
       "      <td>0.000000</td>\n",
       "      <td>10.460242</td>\n",
       "    </tr>\n",
       "    <tr>\n",
       "      <th>25%</th>\n",
       "      <td>0.000000</td>\n",
       "      <td>0.750000</td>\n",
       "      <td>0.272727</td>\n",
       "      <td>0.444444</td>\n",
       "      <td>0.500000</td>\n",
       "      <td>0.081967</td>\n",
       "      <td>0.000000</td>\n",
       "      <td>0.000000</td>\n",
       "      <td>0.500000</td>\n",
       "      <td>0.250000</td>\n",
       "      <td>...</td>\n",
       "      <td>0.000000</td>\n",
       "      <td>0.333333</td>\n",
       "      <td>0.000000</td>\n",
       "      <td>0.200000</td>\n",
       "      <td>0.400000</td>\n",
       "      <td>0.333333</td>\n",
       "      <td>0.250000</td>\n",
       "      <td>1.000000</td>\n",
       "      <td>0.388581</td>\n",
       "      <td>11.774713</td>\n",
       "    </tr>\n",
       "    <tr>\n",
       "      <th>50%</th>\n",
       "      <td>0.176471</td>\n",
       "      <td>0.750000</td>\n",
       "      <td>0.454545</td>\n",
       "      <td>0.555556</td>\n",
       "      <td>0.500000</td>\n",
       "      <td>0.254098</td>\n",
       "      <td>0.000000</td>\n",
       "      <td>0.000000</td>\n",
       "      <td>0.750000</td>\n",
       "      <td>0.250000</td>\n",
       "      <td>...</td>\n",
       "      <td>0.000000</td>\n",
       "      <td>0.333333</td>\n",
       "      <td>0.333333</td>\n",
       "      <td>0.400000</td>\n",
       "      <td>0.800000</td>\n",
       "      <td>0.666667</td>\n",
       "      <td>0.500000</td>\n",
       "      <td>1.000000</td>\n",
       "      <td>0.406640</td>\n",
       "      <td>12.001505</td>\n",
       "    </tr>\n",
       "    <tr>\n",
       "      <th>75%</th>\n",
       "      <td>0.294118</td>\n",
       "      <td>0.750000</td>\n",
       "      <td>0.681818</td>\n",
       "      <td>0.666667</td>\n",
       "      <td>0.625000</td>\n",
       "      <td>0.688525</td>\n",
       "      <td>0.000000</td>\n",
       "      <td>0.666667</td>\n",
       "      <td>0.750000</td>\n",
       "      <td>0.500000</td>\n",
       "      <td>...</td>\n",
       "      <td>0.333333</td>\n",
       "      <td>0.666667</td>\n",
       "      <td>0.333333</td>\n",
       "      <td>0.800000</td>\n",
       "      <td>0.800000</td>\n",
       "      <td>0.666667</td>\n",
       "      <td>0.500000</td>\n",
       "      <td>1.000000</td>\n",
       "      <td>0.490408</td>\n",
       "      <td>12.278393</td>\n",
       "    </tr>\n",
       "    <tr>\n",
       "      <th>max</th>\n",
       "      <td>1.000000</td>\n",
       "      <td>1.000000</td>\n",
       "      <td>1.000000</td>\n",
       "      <td>1.000000</td>\n",
       "      <td>1.000000</td>\n",
       "      <td>1.000000</td>\n",
       "      <td>1.000000</td>\n",
       "      <td>1.000000</td>\n",
       "      <td>1.000000</td>\n",
       "      <td>1.000000</td>\n",
       "      <td>...</td>\n",
       "      <td>1.000000</td>\n",
       "      <td>1.000000</td>\n",
       "      <td>1.000000</td>\n",
       "      <td>1.000000</td>\n",
       "      <td>1.000000</td>\n",
       "      <td>1.000000</td>\n",
       "      <td>1.000000</td>\n",
       "      <td>1.000000</td>\n",
       "      <td>1.000000</td>\n",
       "      <td>13.534473</td>\n",
       "    </tr>\n",
       "  </tbody>\n",
       "</table>\n",
       "<p>8 rows × 24 columns</p>\n",
       "</div>"
      ],
      "text/plain": [
       "        MSSubClass     MSZoning  Neighborhood  OverallQual  OverallCond  \\\n",
       "count  1314.000000  1314.000000   1314.000000  1314.000000  1314.000000   \n",
       "mean      0.217410     0.676750      0.491975     0.567309     0.573725   \n",
       "std       0.248341     0.199509      0.271023     0.154306     0.140292   \n",
       "min       0.000000     0.000000      0.000000     0.000000     0.000000   \n",
       "25%       0.000000     0.750000      0.272727     0.444444     0.500000   \n",
       "50%       0.176471     0.750000      0.454545     0.555556     0.500000   \n",
       "75%       0.294118     0.750000      0.681818     0.666667     0.625000   \n",
       "max       1.000000     1.000000      1.000000     1.000000     1.000000   \n",
       "\n",
       "       YearRemodAdd    RoofStyle   MasVnrType     BsmtQual  BsmtExposure  \\\n",
       "count   1314.000000  1314.000000  1314.000000  1314.000000   1314.000000   \n",
       "mean       0.393954     0.210807     0.294774     0.627093      0.407154   \n",
       "std        0.338925     0.400501     0.372583     0.195436      0.266208   \n",
       "min        0.000000     0.000000     0.000000     0.000000      0.000000   \n",
       "25%        0.081967     0.000000     0.000000     0.500000      0.250000   \n",
       "50%        0.254098     0.000000     0.000000     0.750000      0.250000   \n",
       "75%        0.688525     0.000000     0.666667     0.750000      0.500000   \n",
       "max        1.000000     1.000000     1.000000     1.000000      1.000000   \n",
       "\n",
       "          ...       BsmtFullBath  KitchenQual   Fireplaces  FireplaceQu  \\\n",
       "count     ...        1314.000000  1314.000000  1314.000000  1314.000000   \n",
       "mean      ...           0.140284     0.502537     0.205226     0.455708   \n",
       "std       ...           0.172657     0.222387     0.216310     0.271750   \n",
       "min       ...           0.000000     0.000000     0.000000     0.000000   \n",
       "25%       ...           0.000000     0.333333     0.000000     0.200000   \n",
       "50%       ...           0.000000     0.333333     0.333333     0.400000   \n",
       "75%       ...           0.333333     0.666667     0.333333     0.800000   \n",
       "max       ...           1.000000     1.000000     1.000000     1.000000   \n",
       "\n",
       "        GarageType  GarageFinish   GarageCars   PavedDrive  LotFrontage  \\\n",
       "count  1314.000000   1314.000000  1314.000000  1314.000000  1314.000000   \n",
       "mean      0.653881      0.572045     0.440830     0.923516     0.417167   \n",
       "std       0.251886      0.297676     0.186588     0.256764     0.119700   \n",
       "min       0.000000      0.000000     0.000000     0.000000     0.000000   \n",
       "25%       0.400000      0.333333     0.250000     1.000000     0.388581   \n",
       "50%       0.800000      0.666667     0.500000     1.000000     0.406640   \n",
       "75%       0.800000      0.666667     0.500000     1.000000     0.490408   \n",
       "max       1.000000      1.000000     1.000000     1.000000     1.000000   \n",
       "\n",
       "        Sale_Price  \n",
       "count  1314.000000  \n",
       "mean     12.024081  \n",
       "std       0.402589  \n",
       "min      10.460242  \n",
       "25%      11.774713  \n",
       "50%      12.001505  \n",
       "75%      12.278393  \n",
       "max      13.534473  \n",
       "\n",
       "[8 rows x 24 columns]"
      ]
     },
     "execution_count": 57,
     "metadata": {},
     "output_type": "execute_result"
    }
   ],
   "source": [
    "#get the summary\n",
    "training_data.describe()"
   ]
  },
  {
   "cell_type": "code",
   "execution_count": 58,
   "metadata": {
    "collapsed": false
   },
   "outputs": [
    {
     "data": {
      "text/html": [
       "<div>\n",
       "<style>\n",
       "    .dataframe thead tr:only-child th {\n",
       "        text-align: right;\n",
       "    }\n",
       "\n",
       "    .dataframe thead th {\n",
       "        text-align: left;\n",
       "    }\n",
       "\n",
       "    .dataframe tbody tr th {\n",
       "        vertical-align: top;\n",
       "    }\n",
       "</style>\n",
       "<table border=\"1\" class=\"dataframe\">\n",
       "  <thead>\n",
       "    <tr style=\"text-align: right;\">\n",
       "      <th></th>\n",
       "      <th>MSSubClass</th>\n",
       "      <th>MSZoning</th>\n",
       "      <th>Neighborhood</th>\n",
       "      <th>OverallQual</th>\n",
       "      <th>OverallCond</th>\n",
       "      <th>YearRemodAdd</th>\n",
       "      <th>RoofStyle</th>\n",
       "      <th>MasVnrType</th>\n",
       "      <th>BsmtQual</th>\n",
       "      <th>BsmtExposure</th>\n",
       "      <th>...</th>\n",
       "      <th>BsmtFullBath</th>\n",
       "      <th>KitchenQual</th>\n",
       "      <th>Fireplaces</th>\n",
       "      <th>FireplaceQu</th>\n",
       "      <th>GarageType</th>\n",
       "      <th>GarageFinish</th>\n",
       "      <th>GarageCars</th>\n",
       "      <th>PavedDrive</th>\n",
       "      <th>LotFrontage</th>\n",
       "      <th>Sale_Price</th>\n",
       "    </tr>\n",
       "  </thead>\n",
       "  <tbody>\n",
       "    <tr>\n",
       "      <th>0</th>\n",
       "      <td>0.000000</td>\n",
       "      <td>0.75</td>\n",
       "      <td>0.863636</td>\n",
       "      <td>0.777778</td>\n",
       "      <td>0.50</td>\n",
       "      <td>0.049180</td>\n",
       "      <td>0.0</td>\n",
       "      <td>0.000000</td>\n",
       "      <td>0.75</td>\n",
       "      <td>0.75</td>\n",
       "      <td>...</td>\n",
       "      <td>0.000000</td>\n",
       "      <td>0.666667</td>\n",
       "      <td>0.000000</td>\n",
       "      <td>0.2</td>\n",
       "      <td>0.8</td>\n",
       "      <td>1.000000</td>\n",
       "      <td>0.75</td>\n",
       "      <td>1.0</td>\n",
       "      <td>0.461171</td>\n",
       "      <td>12.211060</td>\n",
       "    </tr>\n",
       "    <tr>\n",
       "      <th>1</th>\n",
       "      <td>0.000000</td>\n",
       "      <td>0.75</td>\n",
       "      <td>0.363636</td>\n",
       "      <td>0.444444</td>\n",
       "      <td>0.75</td>\n",
       "      <td>0.049180</td>\n",
       "      <td>0.0</td>\n",
       "      <td>0.666667</td>\n",
       "      <td>0.50</td>\n",
       "      <td>0.25</td>\n",
       "      <td>...</td>\n",
       "      <td>0.333333</td>\n",
       "      <td>0.666667</td>\n",
       "      <td>0.000000</td>\n",
       "      <td>0.2</td>\n",
       "      <td>0.8</td>\n",
       "      <td>0.666667</td>\n",
       "      <td>0.25</td>\n",
       "      <td>1.0</td>\n",
       "      <td>0.456066</td>\n",
       "      <td>11.887931</td>\n",
       "    </tr>\n",
       "    <tr>\n",
       "      <th>2</th>\n",
       "      <td>0.588235</td>\n",
       "      <td>0.75</td>\n",
       "      <td>0.954545</td>\n",
       "      <td>0.888889</td>\n",
       "      <td>0.50</td>\n",
       "      <td>0.098361</td>\n",
       "      <td>1.0</td>\n",
       "      <td>0.666667</td>\n",
       "      <td>1.00</td>\n",
       "      <td>0.25</td>\n",
       "      <td>...</td>\n",
       "      <td>0.333333</td>\n",
       "      <td>1.000000</td>\n",
       "      <td>0.333333</td>\n",
       "      <td>0.8</td>\n",
       "      <td>0.8</td>\n",
       "      <td>0.666667</td>\n",
       "      <td>0.50</td>\n",
       "      <td>1.0</td>\n",
       "      <td>0.394699</td>\n",
       "      <td>12.675764</td>\n",
       "    </tr>\n",
       "    <tr>\n",
       "      <th>3</th>\n",
       "      <td>0.000000</td>\n",
       "      <td>0.75</td>\n",
       "      <td>0.454545</td>\n",
       "      <td>0.666667</td>\n",
       "      <td>0.50</td>\n",
       "      <td>0.163934</td>\n",
       "      <td>0.0</td>\n",
       "      <td>0.000000</td>\n",
       "      <td>0.75</td>\n",
       "      <td>1.00</td>\n",
       "      <td>...</td>\n",
       "      <td>0.333333</td>\n",
       "      <td>0.666667</td>\n",
       "      <td>0.333333</td>\n",
       "      <td>0.4</td>\n",
       "      <td>0.8</td>\n",
       "      <td>0.666667</td>\n",
       "      <td>0.50</td>\n",
       "      <td>1.0</td>\n",
       "      <td>0.388581</td>\n",
       "      <td>12.278393</td>\n",
       "    </tr>\n",
       "    <tr>\n",
       "      <th>4</th>\n",
       "      <td>0.000000</td>\n",
       "      <td>0.75</td>\n",
       "      <td>0.363636</td>\n",
       "      <td>0.555556</td>\n",
       "      <td>0.50</td>\n",
       "      <td>0.737705</td>\n",
       "      <td>0.0</td>\n",
       "      <td>0.666667</td>\n",
       "      <td>0.50</td>\n",
       "      <td>0.25</td>\n",
       "      <td>...</td>\n",
       "      <td>0.000000</td>\n",
       "      <td>0.333333</td>\n",
       "      <td>0.333333</td>\n",
       "      <td>0.8</td>\n",
       "      <td>0.8</td>\n",
       "      <td>0.666667</td>\n",
       "      <td>0.50</td>\n",
       "      <td>1.0</td>\n",
       "      <td>0.577658</td>\n",
       "      <td>12.103486</td>\n",
       "    </tr>\n",
       "  </tbody>\n",
       "</table>\n",
       "<p>5 rows × 24 columns</p>\n",
       "</div>"
      ],
      "text/plain": [
       "   MSSubClass  MSZoning  Neighborhood  OverallQual  OverallCond  YearRemodAdd  \\\n",
       "0    0.000000      0.75      0.863636     0.777778         0.50      0.049180   \n",
       "1    0.000000      0.75      0.363636     0.444444         0.75      0.049180   \n",
       "2    0.588235      0.75      0.954545     0.888889         0.50      0.098361   \n",
       "3    0.000000      0.75      0.454545     0.666667         0.50      0.163934   \n",
       "4    0.000000      0.75      0.363636     0.555556         0.50      0.737705   \n",
       "\n",
       "   RoofStyle  MasVnrType  BsmtQual  BsmtExposure     ...      BsmtFullBath  \\\n",
       "0        0.0    0.000000      0.75          0.75     ...          0.000000   \n",
       "1        0.0    0.666667      0.50          0.25     ...          0.333333   \n",
       "2        1.0    0.666667      1.00          0.25     ...          0.333333   \n",
       "3        0.0    0.000000      0.75          1.00     ...          0.333333   \n",
       "4        0.0    0.666667      0.50          0.25     ...          0.000000   \n",
       "\n",
       "   KitchenQual  Fireplaces  FireplaceQu  GarageType  GarageFinish  GarageCars  \\\n",
       "0     0.666667    0.000000          0.2         0.8      1.000000        0.75   \n",
       "1     0.666667    0.000000          0.2         0.8      0.666667        0.25   \n",
       "2     1.000000    0.333333          0.8         0.8      0.666667        0.50   \n",
       "3     0.666667    0.333333          0.4         0.8      0.666667        0.50   \n",
       "4     0.333333    0.333333          0.8         0.8      0.666667        0.50   \n",
       "\n",
       "   PavedDrive  LotFrontage  Sale_Price  \n",
       "0         1.0     0.461171   12.211060  \n",
       "1         1.0     0.456066   11.887931  \n",
       "2         1.0     0.394699   12.675764  \n",
       "3         1.0     0.388581   12.278393  \n",
       "4         1.0     0.577658   12.103486  \n",
       "\n",
       "[5 rows x 24 columns]"
      ]
     },
     "execution_count": 58,
     "metadata": {},
     "output_type": "execute_result"
    }
   ],
   "source": [
    "training_data.head()"
   ]
  },
  {
   "cell_type": "code",
   "execution_count": 59,
   "metadata": {
    "collapsed": false
   },
   "outputs": [
    {
     "data": {
      "text/plain": [
       "Index(['MSSubClass', 'MSZoning', 'Neighborhood', 'OverallQual', 'OverallCond',\n",
       "       'YearRemodAdd', 'RoofStyle', 'MasVnrType', 'BsmtQual', 'BsmtExposure',\n",
       "       'HeatingQC', 'CentralAir', '1stFlrSF', 'GrLivArea', 'BsmtFullBath',\n",
       "       'KitchenQual', 'Fireplaces', 'FireplaceQu', 'GarageType',\n",
       "       'GarageFinish', 'GarageCars', 'PavedDrive', 'LotFrontage',\n",
       "       'Sale_Price'],\n",
       "      dtype='object')"
      ]
     },
     "execution_count": 59,
     "metadata": {},
     "output_type": "execute_result"
    }
   ],
   "source": [
    "# variables\n",
    "training_data.columns"
   ]
  },
  {
   "cell_type": "markdown",
   "metadata": {},
   "source": [
    "### Variable descriptions"
   ]
  },
  {
   "cell_type": "markdown",
   "metadata": {},
   "source": [
    "- **1 - SalePrice - **The property's sale price. This is the target variable that we're trying to predict.\n",
    "- **2 - MSSubClass - **The building class.\n",
    "- **3 - MSZoning - **The general zoning classification.\n",
    "- **4 - Neighborhood - **Physical locations within Ames city limits.\n",
    "- **5 - OverallQual - **Overall material and finish quality.\n",
    "- **6 - OverallCond - **Overall condition rating.\n",
    "- **7 - YearRemodAdd - **Remodel date.\n",
    "- **8 - RoofStyle - **Type of roof.\n",
    "- **9 - MasVnrType - **Masonry veneer type.\n",
    "- **10 - BsmtQual - **Height of the basement.\n",
    "- **11 - BsmtExposure -**Walkout or garden level basement walls.\n",
    "- **12 - HeatingQC -**Heating quality and condition.\n",
    "- **13 - CentralAir - **Central air conditioning.\n",
    "- **14 - 1stFlrSF -**First Floor square feet.\n",
    "- **15 - GrLivArea -**Above grade (ground) living area square feet.\n",
    "- **16 - BsmtFullBath -**Basement full bathrooms.\n",
    "- **17 - KitchenQual -**Kitchen quality.\n",
    "- **18 - Fireplaces -**Number of fireplaces.\n",
    "- **19 - FireplaceQu -**Fireplace quality.\n",
    "- **20 - GarageType -**Garage location.\n",
    "- **21 - GarageFinish -**Interior finish of the garage.\n",
    "- **22 - GarageCars -**Size of garage in car capacity.\n",
    "- **23 - PavedDrive -**Paved driveway.\n",
    "- **24 - LotFrontage -**Linear feet of street connected to property.\n"
   ]
  },
  {
   "cell_type": "markdown",
   "metadata": {},
   "source": [
    "To efficiently manage our data, we will create a generator, that we will then pass to a dataloader."
   ]
  },
  {
   "cell_type": "code",
   "execution_count": 60,
   "metadata": {
    "collapsed": true
   },
   "outputs": [],
   "source": [
    "class HousingDataset(Dataset):\n",
    "    \"\"\"Housing dataset\"\"\"\n",
    "    \n",
    "    #Initialize dataset\n",
    "    def __init__(self, filepath):\n",
    "        dat = pd.read_csv(filepath).values.astype('float64')\n",
    "        self.len = dat.shape[0]\n",
    "        self.x_data = torch.from_numpy(dat[:, 0:-1])\n",
    "        self.y_data = torch.from_numpy(dat[:, [-1]])\n",
    "        \n",
    "    def __getitem__(self, index):\n",
    "        return self.x_data[index], self.y_data[index]\n",
    "    def __len__(self):\n",
    "        return self.len"
   ]
  },
  {
   "cell_type": "code",
   "execution_count": 61,
   "metadata": {
    "collapsed": false
   },
   "outputs": [],
   "source": [
    "train_dataset = HousingDataset('data/train_housing_data.csv')\n",
    "test_dataset = HousingDataset('data/test_housing_data.csv')\n",
    "train_loader = DataLoader(dataset=train_dataset, batch_size=32, shuffle=True)\n",
    "test_loader = DataLoader(dataset=test_dataset,batch_size=32, shuffle=True)"
   ]
  },
  {
   "cell_type": "markdown",
   "metadata": {},
   "source": [
    "### The model"
   ]
  },
  {
   "cell_type": "markdown",
   "metadata": {},
   "source": [
    "<img src='images/network.png'/>"
   ]
  },
  {
   "cell_type": "code",
   "execution_count": 62,
   "metadata": {
    "collapsed": false
   },
   "outputs": [],
   "source": [
    "n_inputs=24"
   ]
  },
  {
   "cell_type": "code",
   "execution_count": 63,
   "metadata": {
    "collapsed": false
   },
   "outputs": [],
   "source": [
    "class HousingModel(nn.Module):\n",
    "    \"\"\"Housing prices model\"\"\"\n",
    "    \n",
    "    def __init__(self):\n",
    "        super(HousingModel, self).__init__()\n",
    "        self.layer1 = torch.nn.Linear(n_inputs-1, 200)\n",
    "        self.layer2 = torch.nn.Linear(200, 100)\n",
    "        self.layer3 = torch.nn.Linear(100, 50)\n",
    "        self.layer4 = torch.nn.Linear(50, 25)\n",
    "        self.layer5 = torch.nn.Linear(25, 1)\n",
    "        self.relu = torch.nn.ReLU()\n",
    "        \n",
    "    def forward(self, x):\n",
    "        out1 = self.relu(self.layer1(x))\n",
    "        out2 = self.relu(self.layer2(out1))\n",
    "        out3 = self.relu(self.layer3(out2))\n",
    "        out4 = self.relu(self.layer4(out3))\n",
    "        y_pred = self.layer5(out4)\n",
    "        \n",
    "        return y_pred"
   ]
  },
  {
   "cell_type": "code",
   "execution_count": 64,
   "metadata": {
    "collapsed": false
   },
   "outputs": [],
   "source": [
    "housingModel = HousingModel()"
   ]
  },
  {
   "cell_type": "code",
   "execution_count": 65,
   "metadata": {
    "collapsed": false
   },
   "outputs": [
    {
     "data": {
      "text/plain": [
       "<bound method Module.parameters of HousingModel(\n",
       "  (layer1): Linear(in_features=23, out_features=200, bias=True)\n",
       "  (layer2): Linear(in_features=200, out_features=100, bias=True)\n",
       "  (layer3): Linear(in_features=100, out_features=50, bias=True)\n",
       "  (layer4): Linear(in_features=50, out_features=25, bias=True)\n",
       "  (layer5): Linear(in_features=25, out_features=1, bias=True)\n",
       "  (relu): ReLU()\n",
       ")>"
      ]
     },
     "execution_count": 65,
     "metadata": {},
     "output_type": "execute_result"
    }
   ],
   "source": [
    "housingModel.parameters"
   ]
  },
  {
   "cell_type": "markdown",
   "metadata": {},
   "source": [
    "### Training"
   ]
  },
  {
   "cell_type": "code",
   "execution_count": 66,
   "metadata": {
    "collapsed": false
   },
   "outputs": [],
   "source": [
    "learning_rate = 1e-4\n",
    "criterion = torch.nn.MSELoss()\n",
    "optimizer = torch.optim.Adam(housingModel.parameters(), lr=learning_rate)"
   ]
  },
  {
   "cell_type": "code",
   "execution_count": 67,
   "metadata": {
    "collapsed": false
   },
   "outputs": [
    {
     "name": "stdout",
     "output_type": "stream",
     "text": [
      "epoch:  0 Train loss:  141.466101147 Test loss:  140.246252441\n",
      "epoch:  1 Train loss:  138.390327817 Test loss:  135.492626953\n",
      "epoch:  2 Train loss:  129.264312381 Test loss:  119.117977905\n",
      "epoch:  3 Train loss:  98.566939581 Test loss:  69.0539657593\n",
      "epoch:  4 Train loss:  35.7734587193 Test loss:  6.93647623062\n",
      "epoch:  5 Train loss:  3.12133045814 Test loss:  1.87117242813\n",
      "epoch:  6 Train loss:  2.1857706578 Test loss:  1.62400795221\n",
      "epoch:  7 Train loss:  1.96117697585 Test loss:  1.53538947105\n",
      "epoch:  8 Train loss:  1.77949495543 Test loss:  1.37082176208\n",
      "epoch:  9 Train loss:  1.54224515955 Test loss:  1.25311367512\n",
      "epoch:  10 Train loss:  1.34041862261 Test loss:  1.11103637218\n",
      "epoch:  11 Train loss:  1.14350085901 Test loss:  0.954126513004\n",
      "epoch:  12 Train loss:  1.00863240446 Test loss:  0.880593430996\n",
      "epoch:  13 Train loss:  0.907609210128 Test loss:  0.747069495916\n",
      "epoch:  14 Train loss:  0.743778191152 Test loss:  0.736279177666\n",
      "epoch:  15 Train loss:  0.653859464186 Test loss:  0.618171644211\n",
      "epoch:  16 Train loss:  0.584992102214 Test loss:  0.599671584368\n",
      "epoch:  17 Train loss:  0.550160972845 Test loss:  0.577527332306\n",
      "epoch:  18 Train loss:  0.486152034253 Test loss:  0.579679191113\n",
      "epoch:  19 Train loss:  0.45618068143 Test loss:  0.509387409687\n",
      "epoch:  20 Train loss:  0.434897242912 Test loss:  0.475702989101\n",
      "epoch:  21 Train loss:  0.407447020213 Test loss:  0.465806400776\n",
      "epoch:  22 Train loss:  0.383264359087 Test loss:  0.4589848876\n",
      "epoch:  23 Train loss:  0.359994077878 Test loss:  0.475722259283\n",
      "epoch:  24 Train loss:  0.348588646168 Test loss:  0.41271442771\n",
      "epoch:  25 Train loss:  0.333722625105 Test loss:  0.378564083576\n",
      "epoch:  26 Train loss:  0.312146489553 Test loss:  0.389481276274\n",
      "epoch:  27 Train loss:  0.304324095803 Test loss:  0.358115434647\n",
      "epoch:  28 Train loss:  0.290314182994 Test loss:  0.365195697546\n",
      "epoch:  29 Train loss:  0.280122140156 Test loss:  0.352112343907\n",
      "epoch:  30 Train loss:  0.272653419524 Test loss:  0.33633299768\n",
      "epoch:  31 Train loss:  0.256351565144 Test loss:  0.306665050983\n",
      "epoch:  32 Train loss:  0.246916453931 Test loss:  0.293793998659\n",
      "epoch:  33 Train loss:  0.238620397236 Test loss:  0.300081592798\n",
      "epoch:  34 Train loss:  0.230569685233 Test loss:  0.270834513009\n",
      "epoch:  35 Train loss:  0.224501735575 Test loss:  0.28882521987\n",
      "epoch:  36 Train loss:  0.216679512213 Test loss:  0.27853718698\n",
      "epoch:  37 Train loss:  0.209257280011 Test loss:  0.26152317822\n",
      "epoch:  38 Train loss:  0.204167635313 Test loss:  0.24441626966\n",
      "epoch:  39 Train loss:  0.193690475076 Test loss:  0.249861779809\n",
      "epoch:  40 Train loss:  0.188366967386 Test loss:  0.22631764859\n",
      "epoch:  41 Train loss:  0.180426702273 Test loss:  0.224403834343\n",
      "epoch:  42 Train loss:  0.180860322324 Test loss:  0.216283759475\n",
      "epoch:  43 Train loss:  0.174772313219 Test loss:  0.217437876761\n",
      "epoch:  44 Train loss:  0.171633006561 Test loss:  0.206773480773\n",
      "epoch:  45 Train loss:  0.168716070198 Test loss:  0.191478540003\n",
      "epoch:  46 Train loss:  0.158868891764 Test loss:  0.190037080646\n",
      "epoch:  47 Train loss:  0.154360416567 Test loss:  0.179051826149\n",
      "epoch:  48 Train loss:  0.152411887156 Test loss:  0.194977976382\n",
      "epoch:  49 Train loss:  0.173041798352 Test loss:  0.178305581212\n",
      "epoch:  50 Train loss:  0.145382622168 Test loss:  0.174159944057\n",
      "epoch:  51 Train loss:  0.134428860708 Test loss:  0.16003267467\n",
      "epoch:  52 Train loss:  0.140665333275 Test loss:  0.172332710028\n",
      "epoch:  53 Train loss:  0.131075509425 Test loss:  0.159126088023\n",
      "epoch:  54 Train loss:  0.126768005036 Test loss:  0.15497289896\n",
      "epoch:  55 Train loss:  0.120249200235 Test loss:  0.149757482111\n",
      "epoch:  56 Train loss:  0.117037230393 Test loss:  0.147915326059\n",
      "epoch:  57 Train loss:  0.114940873658 Test loss:  0.144867010415\n",
      "epoch:  58 Train loss:  0.111327587228 Test loss:  0.143838275969\n",
      "epoch:  59 Train loss:  0.111452128206 Test loss:  0.129969935119\n",
      "epoch:  60 Train loss:  0.107614813816 Test loss:  0.140527997911\n",
      "epoch:  61 Train loss:  0.104949018874 Test loss:  0.129661705345\n",
      "epoch:  62 Train loss:  0.105484682801 Test loss:  0.120278386772\n",
      "epoch:  63 Train loss:  0.0982011443093 Test loss:  0.14220186919\n",
      "epoch:  64 Train loss:  0.0964958399002 Test loss:  0.115702982247\n",
      "epoch:  65 Train loss:  0.100396089078 Test loss:  0.108586743474\n",
      "epoch:  66 Train loss:  0.0905243009329 Test loss:  0.107442829758\n",
      "epoch:  67 Train loss:  0.0884974898238 Test loss:  0.104118134826\n",
      "epoch:  68 Train loss:  0.0849612400579 Test loss:  0.105764108896\n",
      "epoch:  69 Train loss:  0.0825121416683 Test loss:  0.108386188\n",
      "epoch:  70 Train loss:  0.0807991568886 Test loss:  0.0983535274863\n",
      "epoch:  71 Train loss:  0.0831836671347 Test loss:  0.0953155659139\n",
      "epoch:  72 Train loss:  0.0765354768595 Test loss:  0.113749977946\n",
      "epoch:  73 Train loss:  0.0785865056373 Test loss:  0.0903205513954\n",
      "epoch:  74 Train loss:  0.0730900066417 Test loss:  0.106344251335\n",
      "epoch:  75 Train loss:  0.0715529482058 Test loss:  0.0870264083147\n",
      "epoch:  76 Train loss:  0.06952405854 Test loss:  0.0879203014076\n",
      "epoch:  77 Train loss:  0.0672916134021 Test loss:  0.082580216974\n",
      "epoch:  78 Train loss:  0.0678947570601 Test loss:  0.0788055665791\n",
      "epoch:  79 Train loss:  0.0619374623943 Test loss:  0.0805710859597\n",
      "epoch:  80 Train loss:  0.0602275085236 Test loss:  0.0810681857169\n",
      "epoch:  81 Train loss:  0.0596090352518 Test loss:  0.0713160857558\n",
      "epoch:  82 Train loss:  0.0576675618954 Test loss:  0.072389473021\n",
      "epoch:  83 Train loss:  0.0548523138 Test loss:  0.0672385893762\n",
      "epoch:  84 Train loss:  0.0537746861311 Test loss:  0.0685147114098\n",
      "epoch:  85 Train loss:  0.0556516322706 Test loss:  0.0762673452497\n",
      "epoch:  86 Train loss:  0.0553187453853 Test loss:  0.0671610891819\n",
      "epoch:  87 Train loss:  0.0502133146815 Test loss:  0.066395381093\n",
      "epoch:  88 Train loss:  0.0502913581385 Test loss:  0.0604034401476\n",
      "epoch:  89 Train loss:  0.0510179516638 Test loss:  0.0570211268961\n",
      "epoch:  90 Train loss:  0.0498957559466 Test loss:  0.062637680769\n",
      "epoch:  91 Train loss:  0.0442631713758 Test loss:  0.05605423823\n",
      "epoch:  92 Train loss:  0.0429506466081 Test loss:  0.0565301842988\n",
      "epoch:  93 Train loss:  0.0422312052743 Test loss:  0.0519128605723\n",
      "epoch:  94 Train loss:  0.0415632622982 Test loss:  0.0515345364809\n",
      "epoch:  95 Train loss:  0.0411589909788 Test loss:  0.0587749063969\n",
      "epoch:  96 Train loss:  0.0395787455851 Test loss:  0.0487000513822\n",
      "epoch:  97 Train loss:  0.0382814691956 Test loss:  0.0485953733325\n",
      "epoch:  98 Train loss:  0.0404331692982 Test loss:  0.0511478848755\n",
      "epoch:  99 Train loss:  0.0370798302105 Test loss:  0.0525891993195\n"
     ]
    }
   ],
   "source": [
    "train_losses = []\n",
    "test_losses = []\n",
    "for epoch in range(100):\n",
    "    train_loss = []\n",
    "    test_loss = []\n",
    "    \n",
    "    # training\n",
    "    for inputs, target in train_loader:\n",
    "        # wrap them into a variable\n",
    "        inputs, target = Variable(inputs.float()),  Variable(target.float())\n",
    "        \n",
    "        \n",
    "        # Forward pass: compute the predicted y by passing x to the model\n",
    "        y_pred = housingModel(inputs)\n",
    "        \n",
    "        # compute and print loss\n",
    "        loss = criterion(y_pred, target)\n",
    "        train_loss.append(loss.item())\n",
    "        \n",
    "        optimizer.zero_grad()\n",
    "        loss.backward()\n",
    "        optimizer.step()\n",
    "        \n",
    "    # validation  \n",
    "    for  test_inputs, test_target in test_loader:\n",
    "        test_inputs = Variable(test_inputs.float())\n",
    "        test_target = Variable(test_target.float())\n",
    "        test_pred = housingModel(test_inputs)\n",
    "        loss = criterion(test_pred, test_target)\n",
    "        test_loss.append(loss.data.item())\n",
    "       \n",
    "    test_losses.append(np.mean(test_loss))\n",
    "       \n",
    "    # compute the loss\n",
    "    train_losses.append(np.mean(train_loss))\n",
    "    print('epoch: ', epoch, \"Train loss: \", np.mean(train_loss), \"Test loss: \", np.mean(test_loss))\n",
    "    \n",
    "        "
   ]
  },
  {
   "cell_type": "code",
   "execution_count": 68,
   "metadata": {
    "collapsed": false
   },
   "outputs": [
    {
     "data": {
      "text/plain": [
       "<matplotlib.text.Text at 0x10314dba8>"
      ]
     },
     "execution_count": 68,
     "metadata": {},
     "output_type": "execute_result"
    }
   ],
   "source": [
    "import matplotlib.pyplot as plt\n",
    "plt.plot(range(90), train_losses[10:], 'r')\n",
    "plt.plot(range(90), test_losses[10:], 'b')\n",
    "plt.gca().legend(('training loss','validation loss'))\n",
    "plt.xlabel('Epoch')\n",
    "plt.ylabel('Loss')\n",
    "plt.title('Learning curve')"
   ]
  },
  {
   "cell_type": "code",
   "execution_count": 69,
   "metadata": {
    "collapsed": false
   },
   "outputs": [
    {
     "data": {
      "image/png": "[encoded data removed]",
      "text/plain": [
       "<matplotlib.figure.Figure at 0x1a1adbacf8>"
      ]
     },
     "metadata": {},
     "output_type": "display_data"
    }
   ],
   "source": [
    "plt.show()"
   ]
  },
  {
   "cell_type": "markdown",
   "metadata": {},
   "source": [
    "## Train a deep neural network on the Tensorflow playground"
   ]
  },
  {
   "cell_type": "markdown",
   "metadata": {},
   "source": [
    "Follow the following link: [Tensorflow playground](https://playground.tensorflow.org/#activation=tanh&batchSize=10&dataset=spiral&regDataset=reg-plane&learningRate=0.03&regularizationRate=0&noise=0&networkShape=4,2&seed=0.69269&showTestData=false&discretize=false&percTrainData=50&x=true&y=true&xTimesY=false&xSquared=false&ySquared=false&cosX=false&sinX=false&cosY=false&sinY=false&collectStats=false&problem=classification&initZero=false&hideText=false)."
   ]
  },
  {
   "cell_type": "code",
   "execution_count": null,
   "metadata": {
    "collapsed": true
   },
   "outputs": [],
   "source": []
  }
 ],
 "metadata": {
  "anaconda-cloud": {},
  "kernelspec": {
   "display_name": "Python [conda env:tensorflow]",
   "language": "python",
   "name": "conda-env-tensorflow-py"
  },
  "language_info": {
   "codemirror_mode": {
    "name": "ipython",
    "version": 3
   },
   "file_extension": ".py",
   "mimetype": "text/x-python",
   "name": "python",
   "nbconvert_exporter": "python",
   "pygments_lexer": "ipython3",
   "version": "3.6.2"
  }
 },
 "nbformat": 4,
 "nbformat_minor": 1
}
